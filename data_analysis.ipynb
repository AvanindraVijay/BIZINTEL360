{
 "cells": [
  {
   "cell_type": "code",
   "execution_count": 1,
   "id": "2d0c62b3",
   "metadata": {},
   "outputs": [
    {
     "name": "stdout",
     "output_type": "stream",
     "text": [
      "Requirement already satisfied: pandas in c:\\users\\shrut\\.conda\\envs\\nltk_env\\lib\\site-packages (2.3.0)\n",
      "Requirement already satisfied: mysql-connector-python in c:\\users\\shrut\\.conda\\envs\\nltk_env\\lib\\site-packages (9.3.0)\n",
      "Requirement already satisfied: sqlalchemy in c:\\users\\shrut\\.conda\\envs\\nltk_env\\lib\\site-packages (2.0.41)\n",
      "Requirement already satisfied: matplotlib in c:\\users\\shrut\\.conda\\envs\\nltk_env\\lib\\site-packages (3.9.4)\n",
      "Requirement already satisfied: seaborn in c:\\users\\shrut\\.conda\\envs\\nltk_env\\lib\\site-packages (0.13.2)\n",
      "Requirement already satisfied: pymysql in c:\\users\\shrut\\.conda\\envs\\nltk_env\\lib\\site-packages (1.1.1)\n",
      "Requirement already satisfied: plotly.express in c:\\users\\shrut\\.conda\\envs\\nltk_env\\lib\\site-packages (0.4.1)\n",
      "Requirement already satisfied: numpy>=1.22.4 in c:\\users\\shrut\\.conda\\envs\\nltk_env\\lib\\site-packages (from pandas) (2.0.2)\n",
      "Requirement already satisfied: python-dateutil>=2.8.2 in c:\\users\\shrut\\.conda\\envs\\nltk_env\\lib\\site-packages (from pandas) (2.9.0.post0)\n",
      "Requirement already satisfied: pytz>=2020.1 in c:\\users\\shrut\\.conda\\envs\\nltk_env\\lib\\site-packages (from pandas) (2025.2)\n",
      "Requirement already satisfied: tzdata>=2022.7 in c:\\users\\shrut\\.conda\\envs\\nltk_env\\lib\\site-packages (from pandas) (2025.2)\n",
      "Requirement already satisfied: greenlet>=1 in c:\\users\\shrut\\.conda\\envs\\nltk_env\\lib\\site-packages (from sqlalchemy) (3.2.3)\n",
      "Requirement already satisfied: typing-extensions>=4.6.0 in c:\\users\\shrut\\.conda\\envs\\nltk_env\\lib\\site-packages (from sqlalchemy) (4.12.2)\n",
      "Requirement already satisfied: contourpy>=1.0.1 in c:\\users\\shrut\\.conda\\envs\\nltk_env\\lib\\site-packages (from matplotlib) (1.3.0)\n",
      "Requirement already satisfied: cycler>=0.10 in c:\\users\\shrut\\.conda\\envs\\nltk_env\\lib\\site-packages (from matplotlib) (0.12.1)\n",
      "Requirement already satisfied: fonttools>=4.22.0 in c:\\users\\shrut\\.conda\\envs\\nltk_env\\lib\\site-packages (from matplotlib) (4.58.4)\n",
      "Requirement already satisfied: kiwisolver>=1.3.1 in c:\\users\\shrut\\.conda\\envs\\nltk_env\\lib\\site-packages (from matplotlib) (1.4.7)\n",
      "Requirement already satisfied: packaging>=20.0 in c:\\users\\shrut\\.conda\\envs\\nltk_env\\lib\\site-packages (from matplotlib) (24.2)\n",
      "Requirement already satisfied: pillow>=8 in c:\\users\\shrut\\.conda\\envs\\nltk_env\\lib\\site-packages (from matplotlib) (11.2.1)\n",
      "Requirement already satisfied: pyparsing>=2.3.1 in c:\\users\\shrut\\.conda\\envs\\nltk_env\\lib\\site-packages (from matplotlib) (3.2.3)\n",
      "Requirement already satisfied: importlib-resources>=3.2.0 in c:\\users\\shrut\\.conda\\envs\\nltk_env\\lib\\site-packages (from matplotlib) (6.5.2)\n",
      "Requirement already satisfied: plotly>=4.1.0 in c:\\users\\shrut\\.conda\\envs\\nltk_env\\lib\\site-packages (from plotly.express) (6.1.2)\n",
      "Requirement already satisfied: statsmodels>=0.9.0 in c:\\users\\shrut\\.conda\\envs\\nltk_env\\lib\\site-packages (from plotly.express) (0.14.4)\n",
      "Requirement already satisfied: scipy>=0.18 in c:\\users\\shrut\\.conda\\envs\\nltk_env\\lib\\site-packages (from plotly.express) (1.13.1)\n",
      "Requirement already satisfied: patsy>=0.5 in c:\\users\\shrut\\.conda\\envs\\nltk_env\\lib\\site-packages (from plotly.express) (1.0.1)\n",
      "Requirement already satisfied: zipp>=3.1.0 in c:\\users\\shrut\\.conda\\envs\\nltk_env\\lib\\site-packages (from importlib-resources>=3.2.0->matplotlib) (3.21.0)\n",
      "Requirement already satisfied: narwhals>=1.15.1 in c:\\users\\shrut\\.conda\\envs\\nltk_env\\lib\\site-packages (from plotly>=4.1.0->plotly.express) (1.43.0)\n",
      "Requirement already satisfied: six>=1.5 in c:\\users\\shrut\\.conda\\envs\\nltk_env\\lib\\site-packages (from python-dateutil>=2.8.2->pandas) (1.17.0)\n",
      "Note: you may need to restart the kernel to use updated packages.\n"
     ]
    }
   ],
   "source": [
    "pip install pandas mysql-connector-python sqlalchemy matplotlib seaborn pymysql plotly.express\n"
   ]
  },
  {
   "cell_type": "code",
   "execution_count": 2,
   "id": "4bbc5e04",
   "metadata": {},
   "outputs": [],
   "source": [
    "import pandas as pd\n",
    "import numpy as np\n",
    "import matplotlib.pyplot as plt\n",
    "import seaborn as sns\n",
    "import plotly.express as px\n",
    "import plotly.graph_objects as go\n",
    "from plotly.subplots import make_subplots\n",
    "import warnings\n",
    "warnings.filterwarnings('ignore')\n",
    "\n",
    "from sqlalchemy import create_engine\n",
    "from urllib.parse import quote_plus\n",
    "from datetime import datetime, timedelta\n",
    "import re"
   ]
  },
  {
   "cell_type": "code",
   "execution_count": 3,
   "id": "a519c834",
   "metadata": {},
   "outputs": [
    {
     "name": "stdout",
     "output_type": "stream",
     "text": [
      "All libraries imported successfully!\n"
     ]
    }
   ],
   "source": [
    "# Set display options\n",
    "pd.set_option('display.max_columns', None)\n",
    "pd.set_option('display.max_rows', 100)\n",
    "plt.style.use('seaborn-v0_8')\n",
    "sns.set_palette(\"husl\")\n",
    "\n",
    "print(\"All libraries imported successfully!\")"
   ]
  },
  {
   "cell_type": "markdown",
   "id": "d31393a3",
   "metadata": {},
   "source": [
    "## DATABASE CONNECTION AND DATA LOADING"
   ]
  },
  {
   "cell_type": "code",
   "execution_count": 4,
   "id": "91e06c05",
   "metadata": {},
   "outputs": [
    {
     "name": "stdout",
     "output_type": "stream",
     "text": [
      "✓ Loaded products: 270 rows, 4 columns\n",
      "✓ Loaded vendors: 270 rows, 4 columns\n",
      "✓ Loaded customers: 270 rows, 4 columns\n",
      "✓ Loaded sales_data: 270 rows, 6 columns\n",
      "✓ Loaded transactions: 270 rows, 5 columns\n",
      "✓ Loaded inventory: 270 rows, 4 columns\n",
      "✓ Loaded expense_reports: 270 rows, 5 columns\n",
      "✓ Loaded customer_feedback: 270 rows, 5 columns\n",
      "✓ Loaded marketing_campaigns: 270 rows, 5 columns\n"
     ]
    }
   ],
   "source": [
    "def connect_to_database():\n",
    "    \"\"\"Connect to MySQL database and load all tables\"\"\"\n",
    "    try:\n",
    "# Database credentials\n",
    "        username = 'root'\n",
    "        password = quote_plus('Kiit@5793')  # URL-encode special characters\n",
    "        host = 'localhost'\n",
    "        port = 3306\n",
    "        database = 'BizIntel360'\n",
    "\n",
    "# Create SQLAlchemy engine\n",
    "        engine = create_engine(f\"mysql+mysqlconnector://{username}:{password}@{host}:{port}/{database}\")\n",
    "        \n",
    "# List of all tables\n",
    "        tables = [\n",
    "            \"products\", \"vendors\", \"customers\", \"sales_data\", \"transactions\",\n",
    "            \"inventory\", \"expense_reports\", \"customer_feedback\", \"marketing_campaigns\"\n",
    "        ]\n",
    "        \n",
    "# Load all tables into dataframes\n",
    "        dataframes = {}\n",
    "        for table in tables:\n",
    "            try:\n",
    "                df = pd.read_sql(f\"SELECT * FROM {table}\", engine)\n",
    "                dataframes[table] = df\n",
    "                print(f\"✓ Loaded {table}: {df.shape[0]} rows, {df.shape[1]} columns\")\n",
    "            except Exception as e:\n",
    "                print(f\"✗ Error loading {table}: {e}\")\n",
    "        \n",
    "        return dataframes, engine\n",
    "    \n",
    "    except Exception as e:\n",
    "        print(f\"Database connection error: {e}\")\n",
    "        return None, None\n",
    "\n",
    "# Load data\n",
    "dataframes, engine = connect_to_database()"
   ]
  },
  {
   "cell_type": "markdown",
   "id": "f9f72d0c",
   "metadata": {},
   "source": [
    "## DATA EXPLORATION AND BASIC INFO"
   ]
  },
  {
   "cell_type": "code",
   "execution_count": 5,
   "id": "b7491ade",
   "metadata": {},
   "outputs": [
    {
     "name": "stdout",
     "output_type": "stream",
     "text": [
      "================================================================================\n",
      "DATA EXPLORATION SUMMARY\n",
      "================================================================================\n",
      "\n",
      " Table: PRODUCTS\n",
      "--------------------------------------------------\n",
      "Shape: (270, 4)\n",
      "Columns: ['product_id', 'product_name', 'category', 'price']\n",
      "Data Types:\n",
      "product_id        int64\n",
      "product_name     object\n",
      "category         object\n",
      "price           float64\n",
      "dtype: object\n",
      "Memory Usage: 39.48 KB\n",
      "No missing values found.\n",
      "\n",
      "First 5 rows:\n",
      "   product_id product_name        category   price\n",
      "0           1    Product_1     Electronics   22.26\n",
      "1           2    Product_2        Clothing  130.00\n",
      "2           3    Product_3       Groceries  370.87\n",
      "3           4    Product_4  Home & Kitchen   52.60\n",
      "4           5    Product_5           Books   25.57\n",
      "\n",
      "================================================================================\n",
      "\n",
      " Table: VENDORS\n",
      "--------------------------------------------------\n",
      "Shape: (270, 4)\n",
      "Columns: ['vendor_id', 'vendor_name', 'contact_email', 'location']\n",
      "Data Types:\n",
      "vendor_id         int64\n",
      "vendor_name      object\n",
      "contact_email    object\n",
      "location         object\n",
      "dtype: object\n",
      "Memory Usage: 60.69 KB\n",
      "No missing values found.\n",
      "\n",
      "First 5 rows:\n",
      "   vendor_id                      vendor_name                contact_email  \\\n",
      "0          1  Rodriguez, Figueroa and Sanchez       jillrhodes@example.net   \n",
      "1          2                     Robinson PLC  hoffmanjennifer@example.net   \n",
      "2          3                    Pacheco-Smith    helenpeterson@example.org   \n",
      "3          4                        James LLC      cassandra07@example.net   \n",
      "4          5      Montgomery, Hensley and Ray   williamsjeremy@example.com   \n",
      "\n",
      "              location  \n",
      "0       New Roberttown  \n",
      "1        Robinsonshire  \n",
      "2         Port Matthew  \n",
      "3  South Christianport  \n",
      "4      Port Jesseville  \n",
      "\n",
      "================================================================================\n",
      "\n",
      " Table: CUSTOMERS\n",
      "--------------------------------------------------\n",
      "Shape: (270, 4)\n",
      "Columns: ['customer_id', 'customer_name', 'email', 'join_date']\n",
      "Data Types:\n",
      "customer_id       int64\n",
      "customer_name    object\n",
      "email            object\n",
      "join_date        object\n",
      "dtype: object\n",
      "Memory Usage: 59.23 KB\n",
      "No missing values found.\n",
      "\n",
      "First 5 rows:\n",
      "   customer_id      customer_name                          email   join_date\n",
      "0            1      Robert Garcia           nicole26@example.org  2025-03-10\n",
      "1            2   Brenda Moreno MD         scottbowen@example.net  2023-02-08\n",
      "2            3         Lisa Ramos  christophergarcia@example.org  2024-12-19\n",
      "3            4     Heather Jordan         johnnewman@example.org  2024-10-24\n",
      "4            5  Michelle Mitchell    abbottdominique@example.com  2023-05-03\n",
      "\n",
      "================================================================================\n",
      "\n",
      " Table: SALES_DATA\n",
      "--------------------------------------------------\n",
      "Shape: (270, 6)\n",
      "Columns: ['sale_id', 'product_id', 'customer_id', 'sale_date', 'quantity', 'total_price']\n",
      "Data Types:\n",
      "sale_id          int64\n",
      "product_id       int64\n",
      "customer_id      int64\n",
      "sale_date       object\n",
      "quantity         int64\n",
      "total_price    float64\n",
      "dtype: object\n",
      "Memory Usage: 28.34 KB\n",
      "No missing values found.\n",
      "\n",
      "First 5 rows:\n",
      "   sale_id  product_id  customer_id   sale_date  quantity  total_price\n",
      "0        1          15          200  2024-10-05         6       360.48\n",
      "1        2         208           85  2025-02-03         8      2522.80\n",
      "2        3          66           14  2024-06-23         7      1811.32\n",
      "3        4          14           43  2025-01-04         7      3353.21\n",
      "4        5          70          237  2024-08-08         3       579.66\n",
      "\n",
      "================================================================================\n",
      "\n",
      " Table: TRANSACTIONS\n",
      "--------------------------------------------------\n",
      "Shape: (270, 5)\n",
      "Columns: ['transaction_id', 'sale_id', 'payment_method', 'transaction_date', 'transaction_amount']\n",
      "Data Types:\n",
      "transaction_id          int64\n",
      "sale_id                 int64\n",
      "payment_method         object\n",
      "transaction_date       object\n",
      "transaction_amount    float64\n",
      "dtype: object\n",
      "Memory Usage: 41.19 KB\n",
      "No missing values found.\n",
      "\n",
      "First 5 rows:\n",
      "   transaction_id  sale_id payment_method transaction_date  transaction_amount\n",
      "0               1      181    Credit Card       2025-02-05              360.48\n",
      "1               2       26            UPI       2025-02-05             2522.80\n",
      "2               3      254           Cash       2024-06-19             1811.32\n",
      "3               4      241            UPI       2024-09-20             3353.21\n",
      "4               5        5    Credit Card       2025-05-25              579.66\n",
      "\n",
      "================================================================================\n",
      "\n",
      " Table: INVENTORY\n",
      "--------------------------------------------------\n",
      "Shape: (270, 4)\n",
      "Columns: ['inventory_id', 'product_id', 'stock_quantity', 'restock_date']\n",
      "Data Types:\n",
      "inventory_id       int64\n",
      "product_id         int64\n",
      "stock_quantity     int64\n",
      "restock_date      object\n",
      "dtype: object\n",
      "Memory Usage: 24.12 KB\n",
      "No missing values found.\n",
      "\n",
      "First 5 rows:\n",
      "   inventory_id  product_id  stock_quantity restock_date\n",
      "0             1          79              93   2025-06-17\n",
      "1             2          39              32   2025-06-17\n",
      "2             3         253              69   2025-06-17\n",
      "3             4         230              97   2025-06-17\n",
      "4             5         166              90   2025-06-17\n",
      "\n",
      "================================================================================\n",
      "\n",
      " Table: EXPENSE_REPORTS\n",
      "--------------------------------------------------\n",
      "Shape: (270, 5)\n",
      "Columns: ['expense_id', 'vendor_id', 'expense_date', 'amount', 'category']\n",
      "Data Types:\n",
      "expense_id        int64\n",
      "vendor_id         int64\n",
      "expense_date     object\n",
      "amount          float64\n",
      "category         object\n",
      "dtype: object\n",
      "Memory Usage: 41.52 KB\n",
      "No missing values found.\n",
      "\n",
      "First 5 rows:\n",
      "   expense_id  vendor_id expense_date   amount     category\n",
      "0           1        154   2025-04-23  3578.19    Logistics\n",
      "1           2         17   2024-12-21   920.75     Software\n",
      "2           3        194   2025-06-03  2987.16    Logistics\n",
      "3           4          5   2024-12-28  3662.80    Logistics\n",
      "4           5        256   2024-08-15  4303.98  Maintenance\n",
      "\n",
      "================================================================================\n",
      "\n",
      " Table: CUSTOMER_FEEDBACK\n",
      "--------------------------------------------------\n",
      "Shape: (270, 5)\n",
      "Columns: ['feedback_id', 'customer_id', 'product_id', 'rating', 'comment']\n",
      "Data Types:\n",
      "feedback_id     int64\n",
      "customer_id     int64\n",
      "product_id      int64\n",
      "rating          int64\n",
      "comment        object\n",
      "dtype: object\n",
      "Memory Usage: 39.99 KB\n",
      "No missing values found.\n",
      "\n",
      "First 5 rows:\n",
      "   feedback_id  customer_id  product_id  rating  \\\n",
      "0            1           82          52       2   \n",
      "1            2          124         137       5   \n",
      "2            3           29         113       5   \n",
      "3            4          199         182       2   \n",
      "4            5           91         122       5   \n",
      "\n",
      "                                             comment  \n",
      "0          Thought tough player a chair chance most.  \n",
      "1  Past language day theory feel some quickly tru...  \n",
      "2  Wrong old particularly member summer system ar...  \n",
      "3  Star grow technology tend dog reduce hour fish...  \n",
      "4  New successful growth individual eye their by ...  \n",
      "\n",
      "================================================================================\n",
      "\n",
      " Table: MARKETING_CAMPAIGNS\n",
      "--------------------------------------------------\n",
      "Shape: (270, 5)\n",
      "Columns: ['campaign_id', 'campaign_name', 'start_date', 'end_date', 'budget']\n",
      "Data Types:\n",
      "campaign_id        int64\n",
      "campaign_name     object\n",
      "start_date        object\n",
      "end_date          object\n",
      "budget           float64\n",
      "dtype: object\n",
      "Memory Usage: 62.65 KB\n",
      "No missing values found.\n",
      "\n",
      "First 5 rows:\n",
      "   campaign_id                       campaign_name  start_date    end_date  \\\n",
      "0            1  Evolve Distributed Infrastructures  2023-11-11  2024-08-04   \n",
      "1            2    Empower Innovative Supply-Chains  2023-06-29  2025-01-30   \n",
      "2            3       Incentivize Compelling Models  2024-03-05  2025-04-08   \n",
      "3            4       Transform Value-Added Markets  2023-09-29  2025-04-04   \n",
      "4            5   Implement Revolutionary Platforms  2023-09-07  2025-01-05   \n",
      "\n",
      "    budget  \n",
      "0  5598.30  \n",
      "1  8171.50  \n",
      "2  7265.16  \n",
      "3  7236.42  \n",
      "4  1422.82  \n",
      "\n",
      "================================================================================\n"
     ]
    }
   ],
   "source": [
    "def explore_dataframes(dataframes):\n",
    "    \"\"\"Explore the loaded dataframes\"\"\"\n",
    "    print(\"=\"*80)\n",
    "    print(\"DATA EXPLORATION SUMMARY\")\n",
    "    print(\"=\"*80)\n",
    "    \n",
    "    for table_name, df in dataframes.items():\n",
    "        print(f\"\\n Table: {table_name.upper()}\")\n",
    "        print(\"-\"*50)\n",
    "        print(f\"Shape: {df.shape}\")\n",
    "        print(f\"Columns: {list(df.columns)}\")\n",
    "        print(f\"Data Types:\\n{df.dtypes}\")\n",
    "        print(f\"Memory Usage: {df.memory_usage(deep=True).sum() / 1024:.2f} KB\")\n",
    "        \n",
    "# Missing Values\n",
    "        missing = df.isnull().sum()\n",
    "        if missing.sum() > 0:\n",
    "            print(f\"Missing Values:\\n{missing[missing > 0]}\")\n",
    "        else:\n",
    "            print(\"No missing values found.\")\n",
    "        \n",
    "        print(f\"\\nFirst 5 rows:\\n{df.head(5)}\")\n",
    "        print(\"\\n\" + \"=\"*80)\n",
    "\n",
    "\n",
    "if dataframes:\n",
    "    explore_dataframes(dataframes)\n",
    "else:\n",
    "    print(\"⚠️ No dataframes found to explore.\")\n"
   ]
  },
  {
   "cell_type": "markdown",
   "id": "94136b59",
   "metadata": {
    "notebookRunGroups": {
     "groupValue": "2"
    }
   },
   "source": [
    "## DATA CLEANING FUNCTIONS"
   ]
  },
  {
   "cell_type": "markdown",
   "id": "6dbebd20",
   "metadata": {},
   "source": [
    "### Product Tables"
   ]
  },
  {
   "cell_type": "code",
   "execution_count": 6,
   "id": "3952851c",
   "metadata": {},
   "outputs": [],
   "source": [
    "def clean_products_data(df):\n",
    "    \"\"\"Clean Products table data\"\"\"\n",
    "    df_clean = df.copy()\n",
    "    \n",
    "# Clean product names\n",
    "    df_clean = df_clean.drop_duplicates()\n",
    "    df_clean['product_name'] = df_clean['product_name'].str.strip()\n",
    "    \n",
    "# Standardize categories names\n",
    "    df_clean[\"category\"] = df_clean[\"category\"].str.strip().str.title()\n",
    "    \n",
    "# Handle price outliers (price > mean + 3*standard deviations from mean)\n",
    "    price_mean = df_clean['price'].mean()\n",
    "    price_std = df_clean['price'].std()\n",
    "    price_threshold = price_mean + 3 * price_std\n",
    "    \n",
    "    print(f\"Products with price > ${price_threshold:.2f}(outliers):{(df_clean['price']>price_threshold).sum()}\")\n",
    "    \n",
    "    return df_clean\n"
   ]
  },
  {
   "cell_type": "markdown",
   "id": "74425532",
   "metadata": {},
   "source": [
    "### Vendors Table"
   ]
  },
  {
   "cell_type": "code",
   "execution_count": 7,
   "id": "3bcf5b9d",
   "metadata": {},
   "outputs": [],
   "source": [
    "def clean_vendors_data(df):\n",
    "    \"\"\"Clean Vendors table data\"\"\"\n",
    "    df_clean = df.copy()\n",
    "    \n",
    "# Remove duplicates\n",
    "    df_clean = df_clean.drop_duplicates()\n",
    "    \n",
    "#  Clean vendor names\n",
    "    df_clean['vendor_name'] = df_clean['vendor_name'].str.strip()\n",
    "    \n",
    "# Clean email format\n",
    "    email_pattern = r'^[a-zA-Z0-9._%+-]+@[a-zA-Z0-9.-]+\\.[a-zA-Z]{2,}$'\n",
    "    invalid_emails = ~df_clean['contact_email'].str.match(email_pattern, na = False)\n",
    "    print(f\"Invalid emails found: {invalid_emails.sum()}\")    \n",
    "\n",
    "# Clean location Names\n",
    "    df_clean['location'] = df_clean['location'].str.strip().str.title()\n",
    "    \n",
    "    return df_clean    "
   ]
  },
  {
   "cell_type": "markdown",
   "id": "270fdf21",
   "metadata": {},
   "source": [
    "### Customers Table"
   ]
  },
  {
   "cell_type": "code",
   "execution_count": 8,
   "id": "33872b45",
   "metadata": {},
   "outputs": [],
   "source": [
    "def clean_customers_data(df):\n",
    "    \"\"\"Clean customers table\"\"\"\n",
    "    df_clean = df.copy()\n",
    "    \n",
    "# Remove Duplicates\n",
    "    df_clean = df_clean.drop_duplicates()\n",
    "\n",
    "# Clean Customers Names\n",
    "    df_clean['customer_name'] = df_clean['customer_name'].str.strip().str.title()\n",
    "\n",
    "# Covert join_date to datetime\n",
    "    df_clean['join_date'] = pd.to_datetime(df_clean['join_date'], errors='coerce') \n",
    "\n",
    "# Validate email format \n",
    "    email_pattern = r'^[a-zA-Z0-9._%+-]+@[a-zA-Z0-9.-]+\\.[a-zA-Z]{2,}$'\n",
    "    invaild_emails = ~df_clean['email'].str.match(email_pattern, na = False)\n",
    "    print(f\"Invalid emails found: {invaild_emails.sum()}\")\n",
    "    \n",
    "    return df_clean"
   ]
  },
  {
   "cell_type": "markdown",
   "id": "01da696c",
   "metadata": {},
   "source": [
    "### Sales_Data Table"
   ]
  },
  {
   "cell_type": "code",
   "execution_count": 9,
   "id": "ab0cfe09",
   "metadata": {},
   "outputs": [],
   "source": [
    "def clean_sales_data(df):\n",
    "    \"\"\"Clean sales data table\"\"\"\n",
    "    df_clean = df.copy()\n",
    "    \n",
    "# Remove duplicates\n",
    "    df_clean = df_clean.drop_duplicates()\n",
    "\n",
    "# Convert date columns to datetime\n",
    "    df_clean['sale_date'] = pd.to_datetime(df_clean['sale_date'])\n",
    "    \n",
    "# Remove negative quantities and prices\n",
    "    negative_qty = df_clean['quantity'] <= 0\n",
    "    negative_price = df_clean['total_price'] <= 0\n",
    "    \n",
    "    print(f\"Negative quantities: {negative_qty.sum()}\")\n",
    "    print(f\"Negative prices: {negative_price.sum()}\")\n",
    "    \n",
    "    df_clean = df_clean[~(negative_qty | negative_price)]\n",
    "\n",
    "# Calculate unit price\n",
    "    df_clean['unit_price'] = df_clean['total_price']/df_clean['quantity']\n",
    "    \n",
    "    return df_clean"
   ]
  },
  {
   "cell_type": "markdown",
   "id": "38170ab1",
   "metadata": {},
   "source": [
    "### Transaction Table"
   ]
  },
  {
   "cell_type": "code",
   "execution_count": 10,
   "id": "bb5563b6",
   "metadata": {},
   "outputs": [],
   "source": [
    "def clean_transaction_data(df):\n",
    "    \"\"\"Clean Transaction data table\"\"\"\n",
    "    df_clean = df.copy()\n",
    "    \n",
    "# Remove Duplicates\n",
    "    df_clean = df_clean.drop_duplicates()\n",
    "\n",
    "# Convert transation_date to datetime\n",
    "    df_clean['transaction_date'] = pd.to_datetime(df_clean['transaction_date'])\n",
    "\n",
    "# Standardize payment methods\n",
    "    df_clean[\"payment_method\"] = df_clean[\"payment_method\"].str.strip().str.title()\n",
    "\n",
    "# Remove negative transaction amount\n",
    "    negative_amounts = df_clean['transaction_amount'] <= 0\n",
    "    print(f\"Negative transaction amounts: {negative_amounts.sum()}\")\n",
    "    df_clean = df_clean[~negative_amounts]\n",
    "    \n",
    "    return df_clean\n"
   ]
  },
  {
   "cell_type": "markdown",
   "id": "4aeea4dd",
   "metadata": {},
   "source": [
    "### Inventory Table"
   ]
  },
  {
   "cell_type": "code",
   "execution_count": 11,
   "id": "7f3bfab6",
   "metadata": {},
   "outputs": [],
   "source": [
    "def clean_inventory_data(df):\n",
    "    \"\"\"Clean inventory table\"\"\"\n",
    "    df_clean = df.copy()\n",
    "    \n",
    "# Remove duplicates\n",
    "    df_clean = df_clean.drop_duplicates()\n",
    "    \n",
    "# Convert restock_date to datetime\n",
    "    df_clean['restock_date'] = pd.to_datetime(df_clean['restock_date'])\n",
    "    \n",
    "# Remove negative stock quantities\n",
    "    negative_stock = df_clean['stock_quantity'] < 0\n",
    "    print(f\"Negative stock quantities: {negative_stock.sum()}\")\n",
    "    df_clean = df_clean[~negative_stock]\n",
    "    \n",
    "    return df_clean"
   ]
  },
  {
   "cell_type": "markdown",
   "id": "04fdd7ce",
   "metadata": {},
   "source": [
    "### Expense Reports"
   ]
  },
  {
   "cell_type": "code",
   "execution_count": 12,
   "id": "335ec496",
   "metadata": {},
   "outputs": [],
   "source": [
    "def clean_expense_reports_data(df):\n",
    "    \"\"\"Clean expense reports table\"\"\"\n",
    "    df_clean = df.copy()\n",
    "    \n",
    "    # Remove duplicates\n",
    "    df_clean = df_clean.drop_duplicates()\n",
    "    \n",
    "    # Convert expense_date to datetime\n",
    "    df_clean['expense_date'] = pd.to_datetime(df_clean['expense_date'])\n",
    "    \n",
    "    # Standardize category names\n",
    "    df_clean['category'] = df_clean['category'].str.strip().str.title()\n",
    "    \n",
    "    # Remove negative amounts\n",
    "    negative_amounts = df_clean['amount'] <= 0\n",
    "    print(f\"Negative expense amounts: {negative_amounts.sum()}\")\n",
    "    df_clean = df_clean[~negative_amounts]\n",
    "    \n",
    "    return df_clean\n",
    "\n"
   ]
  },
  {
   "cell_type": "markdown",
   "id": "70ceed24",
   "metadata": {},
   "source": [
    "### Customer Feedback"
   ]
  },
  {
   "cell_type": "code",
   "execution_count": 13,
   "id": "9076f604",
   "metadata": {},
   "outputs": [],
   "source": [
    "def clean_customer_feedback_data(df):\n",
    "    \"\"\"Clean customer feedback table\"\"\"\n",
    "    if df is None or df.empty:\n",
    "        print(\"Customer feedback table is empty or not loaded\")\n",
    "        return pd.DataFrame()\n",
    "    \n",
    "    df_clean = df.copy()\n",
    "    \n",
    "    # Remove duplicates\n",
    "    df_clean = df_clean.drop_duplicates()\n",
    "    \n",
    "    # Convert feedback_date to datetime if exists\n",
    "    if 'feedback_date' in df_clean.columns:\n",
    "        df_clean['feedback_date'] = pd.to_datetime(df_clean['feedback_date'])\n",
    "    \n",
    "    # Clean rating values (assuming 1-5 scale)\n",
    "    if 'rating' in df_clean.columns:\n",
    "        invalid_ratings = ~df_clean['rating'].between(1, 5)\n",
    "        print(f\"Invalid ratings (not 1-5): {invalid_ratings.sum()}\")\n",
    "        df_clean = df_clean[~invalid_ratings]\n",
    "    \n",
    "    return df_clean\n",
    "\n"
   ]
  },
  {
   "cell_type": "markdown",
   "id": "65d1aa27",
   "metadata": {},
   "source": [
    "### Marketing Campaigns"
   ]
  },
  {
   "cell_type": "code",
   "execution_count": 14,
   "id": "5a7ea59b",
   "metadata": {},
   "outputs": [],
   "source": [
    "def clean_marketing_campaigns_data(df):\n",
    "    \"\"\"Clean marketing campaigns table\"\"\"\n",
    "    if df is None or df.empty:\n",
    "        print(\"Marketing campaigns table is empty or not loaded\")\n",
    "        return pd.DataFrame()\n",
    "    \n",
    "    df_clean = df.copy()\n",
    "    \n",
    "    # Remove duplicates\n",
    "    df_clean = df_clean.drop_duplicates()\n",
    "    \n",
    "    # Convert date columns to datetime\n",
    "    date_columns = ['start_date', 'end_date', 'campaign_date']\n",
    "    for col in date_columns:\n",
    "        if col in df_clean.columns:\n",
    "            df_clean[col] = pd.to_datetime(df_clean[col])\n",
    "    \n",
    "    # Remove negative budget/spend amounts\n",
    "    amount_columns = ['budget', 'spend', 'cost']\n",
    "    for col in amount_columns:\n",
    "        if col in df_clean.columns:\n",
    "            negative_amounts = df_clean[col] < 0\n",
    "            print(f\"Negative {col} amounts: {negative_amounts.sum()}\")\n",
    "            df_clean = df_clean[df_clean[col] >= 0]\n",
    "    \n",
    "    return df_clean"
   ]
  },
  {
   "cell_type": "markdown",
   "id": "4a87c8a8",
   "metadata": {},
   "source": [
    " ## APPLY DATA CLEANING"
   ]
  },
  {
   "cell_type": "code",
   "execution_count": 15,
   "id": "595d76c7",
   "metadata": {},
   "outputs": [
    {
     "name": "stdout",
     "output_type": "stream",
     "text": [
      "================================================================================\n",
      "DATA CLEANING PROCESS\n",
      "================================================================================\n",
      "\n",
      " Cleaning products...\n",
      "------------------------------\n",
      "Products with price > $668.44(outliers):0\n",
      "products: 270 -> 270 rows\n",
      "\n",
      " Cleaning vendors...\n",
      "------------------------------\n",
      "Invalid emails found: 0\n",
      "vendors: 270 -> 270 rows\n",
      "\n",
      " Cleaning customers...\n",
      "------------------------------\n",
      "Invalid emails found: 0\n",
      "customers: 270 -> 270 rows\n",
      "\n",
      " Cleaning sales_data...\n",
      "------------------------------\n",
      "Negative quantities: 0\n",
      "Negative prices: 0\n",
      "sales_data: 270 -> 270 rows\n",
      "\n",
      " Cleaning transactions...\n",
      "------------------------------\n",
      "Negative transaction amounts: 0\n",
      "transactions: 270 -> 270 rows\n",
      "\n",
      " Cleaning inventory...\n",
      "------------------------------\n",
      "Negative stock quantities: 0\n",
      "inventory: 270 -> 270 rows\n",
      "\n",
      " Cleaning expense_reports...\n",
      "------------------------------\n",
      "Negative expense amounts: 0\n",
      "expense_reports: 270 -> 270 rows\n",
      "\n",
      " Cleaning customer_feedback...\n",
      "------------------------------\n",
      "Invalid ratings (not 1-5): 0\n",
      "customer_feedback: 270 -> 270 rows\n",
      "\n",
      " Cleaning marketing_campaigns...\n",
      "------------------------------\n",
      "Negative budget amounts: 0\n",
      "marketing_campaigns: 270 -> 270 rows\n"
     ]
    }
   ],
   "source": [
    "def clean_all_data(dataframes):\n",
    "    \"\"\"Clean all dataframes\"\"\"\n",
    "    cleaned_data = {}\n",
    "    cleaning_functions = {\n",
    "        'products': clean_products_data,\n",
    "        'vendors': clean_vendors_data,\n",
    "        'customers': clean_customers_data,\n",
    "        'sales_data': clean_sales_data,\n",
    "        'transactions': clean_transaction_data,\n",
    "        'inventory': clean_inventory_data,\n",
    "        'expense_reports': clean_expense_reports_data,\n",
    "        'customer_feedback': clean_customer_feedback_data,\n",
    "        'marketing_campaigns': clean_marketing_campaigns_data\n",
    "    }\n",
    "    \n",
    "    print(\"=\"*80)\n",
    "    print(\"DATA CLEANING PROCESS\")\n",
    "    print(\"=\"*80)\n",
    "    \n",
    "    for table_name, df in dataframes.items():  # ✅ fixed line here\n",
    "        print(f\"\\n Cleaning {table_name}...\")\n",
    "        print(\"-\" * 30)\n",
    "        \n",
    "        if table_name in cleaning_functions:\n",
    "            try:\n",
    "                cleaned_df = cleaning_functions[table_name](df)\n",
    "                cleaned_data[table_name] = cleaned_df\n",
    "                print(f\"{table_name}: {df.shape[0]} -> {cleaned_df.shape[0]} rows\")\n",
    "            except Exception as e:\n",
    "                print(f\"Error cleaning {table_name}: {e}\")\n",
    "                cleaned_data[table_name] = df\n",
    "        else:\n",
    "            cleaned_data[table_name] = df\n",
    "\n",
    "    return cleaned_data\n",
    "if dataframes:\n",
    "    cleaned_dataframes = clean_all_data(dataframes)"
   ]
  },
  {
   "cell_type": "markdown",
   "id": "7b168e7e",
   "metadata": {},
   "source": [
    "## EXPLORATORY DATA ANALYSIS (EDA)"
   ]
  },
  {
   "cell_type": "markdown",
   "id": "87b63cf8",
   "metadata": {},
   "source": [
    "### EDA for products table"
   ]
  },
  {
   "cell_type": "code",
   "execution_count": 16,
   "id": "12e6578e",
   "metadata": {},
   "outputs": [],
   "source": [
    "def perform_eda_products(df):\n",
    "    \"\"\"EDA for products table\"\"\"\n",
    "    print(\"=\"*60)\n",
    "    print(\"📊 PRODUCTS TABLE ANALYSIS\")\n",
    "    print(\"=\"*60)\n",
    "### Basic statistics\n",
    "    print(\"\\n📈 Price Statistics:\")\n",
    "    print(df['price'].describe())\n",
    "    \n",
    "### Category analysis\n",
    "    print(\"\\n📊 Products by Category:\")\n",
    "    category_counts = df['category'].value_counts()\n",
    "    print(category_counts)\n",
    "\n",
    "### Visualizations\n",
    "    fig, axes = plt.subplots(2, 2, figsize=(15, 12))\n",
    "\n",
    "### Price distribution\n",
    "    axes[0,0].hist(df['price'], bins=30, alpha=0.7, color='skyblue')\n",
    "    axes[0,0].set_title('Price Distribution')\n",
    "    axes[0,0].set_xlabel('Price ($)')\n",
    "    axes[0,0].set_ylabel('Frequency')\n",
    "    \n",
    "### Price distribution\n",
    "    axes[0,0].hist(df['price'], bins=30, alpha=0.7, color='skyblue')\n",
    "    axes[0,0].set_title('Price Distribution')\n",
    "    axes[0,0].set_xlabel('Price ($)')\n",
    "    axes[0,0].set_ylabel('Frequency')\n",
    "    \n",
    "### Category distribution\n",
    "    category_counts.plot(kind='bar', ax=axes[0,1], color='lightcoral')\n",
    "    axes[0,1].set_title('Products by Category')\n",
    "    axes[0,1].set_xlabel('Category')\n",
    "    axes[0,1].set_ylabel('Count')\n",
    "    axes[0,1].tick_params(axis='x', rotation=45)\n",
    "    \n",
    "### Price by category boxplot\n",
    "    df.boxplot(column='price', by='category', ax=axes[1,0])\n",
    "    axes[1,0].set_title('Price Distribution by Category')\n",
    "    axes[1,0].set_xlabel('Category')\n",
    "    axes[1,0].set_ylabel('Price ($)')\n",
    "    \n",
    "### Average price by category\n",
    "    avg_price = df.groupby('category')['price'].mean().sort_values(ascending=False)\n",
    "    avg_price.plot(kind='bar', ax=axes[1,1], color='gold')\n",
    "    axes[1,1].set_title('Average Price by Category')\n",
    "    axes[1,1].set_xlabel('Category')\n",
    "    axes[1,1].set_ylabel('Average Price ($)')\n",
    "    axes[1,1].tick_params(axis='x', rotation=45)\n",
    "    \n",
    "    plt.tight_layout()\n",
    "    plt.show()\n",
    "    \n",
    "    return {\n",
    "        'category_distribution': category_counts,\n",
    "        'price_stats': df['price'].describe(),\n",
    "        'avg_price_by_category': avg_price\n",
    "    }"
   ]
  },
  {
   "cell_type": "markdown",
   "id": "616fcb85",
   "metadata": {},
   "source": [
    "### EDA for sales data table"
   ]
  },
  {
   "cell_type": "code",
   "execution_count": 17,
   "id": "515d9c25",
   "metadata": {},
   "outputs": [],
   "source": [
    "def perform_eda_sales(df):\n",
    "    \"\"\"EDA for sales data table\"\"\"\n",
    "    print(\"=\"*60)\n",
    "    print(\"💰 SALES DATA ANALYSIS\")\n",
    "    print(\"=\"*60)\n",
    "    \n",
    "    # Convert sale_date to datetime if not already\n",
    "    df['sale_date'] = pd.to_datetime(df['sale_date'])\n",
    "    \n",
    "    # Basic statistics\n",
    "    print(\"\\n📈 Sales Statistics:\")\n",
    "    print(df[['quantity', 'total_price', 'unit_price']].describe())\n",
    "    \n",
    "    # Time-based analysis\n",
    "    df['year'] = df['sale_date'].dt.year\n",
    "    df['month'] = df['sale_date'].dt.month\n",
    "    df['day_of_week'] = df['sale_date'].dt.day_name()\n",
    "    \n",
    "    # Monthly sales\n",
    "    monthly_sales = df.groupby(['year', 'month']).agg({\n",
    "        'total_price': 'sum',\n",
    "        'quantity': 'sum',\n",
    "        'sale_id': 'count'\n",
    "    }).reset_index()\n",
    "    monthly_sales['year_month'] = monthly_sales['year'].astype(str) + '-' + monthly_sales['month'].astype(str).str.zfill(2)\n",
    "    \n",
    "    print(\"\\n📅 Monthly Sales Summary:\")\n",
    "    print(monthly_sales[['year_month', 'total_price', 'quantity', 'sale_id']].tail(10))\n",
    "    \n",
    "    # Visualizations\n",
    "    fig, axes = plt.subplots(2, 3, figsize=(20, 12))\n",
    "    \n",
    "    # Sales over time\n",
    "    monthly_sales.plot(x='year_month', y='total_price', ax=axes[0,0], marker='o')\n",
    "    axes[0,0].set_title('Monthly Sales Revenue')\n",
    "    axes[0,0].set_xlabel('Year-Month')\n",
    "    axes[0,0].set_ylabel('Total Sales ($)')\n",
    "    axes[0,0].tick_params(axis='x', rotation=45)\n",
    "    \n",
    "    # Quantity distribution\n",
    "    axes[0,1].hist(df['quantity'], bins=20, alpha=0.7, color='lightgreen')\n",
    "    axes[0,1].set_title('Quantity Distribution')\n",
    "    axes[0,1].set_xlabel('Quantity')\n",
    "    axes[0,1].set_ylabel('Frequency')\n",
    "    \n",
    "    # Unit price distribution\n",
    "    axes[0,2].hist(df['unit_price'], bins=30, alpha=0.7, color='orange')\n",
    "    axes[0,2].set_title('Unit Price Distribution')\n",
    "    axes[0,2].set_xlabel('Unit Price ($)')\n",
    "    axes[0,2].set_ylabel('Frequency')\n",
    "    \n",
    "    # Sales by day of week\n",
    "    day_sales = df.groupby('day_of_week')['total_price'].sum()\n",
    "    day_order = ['Monday', 'Tuesday', 'Wednesday', 'Thursday', 'Friday', 'Saturday', 'Sunday']\n",
    "    day_sales = day_sales.reindex(day_order)\n",
    "    day_sales.plot(kind='bar', ax=axes[1,0], color='purple')\n",
    "    axes[1,0].set_title('Sales by Day of Week')\n",
    "    axes[1,0].set_xlabel('Day of Week')\n",
    "    axes[1,0].set_ylabel('Total Sales ($)')\n",
    "    axes[1,0].tick_params(axis='x', rotation=45)\n",
    "    \n",
    "    # Top customers by sales value\n",
    "    top_customers = df.groupby('customer_id')['total_price'].sum().sort_values(ascending=False).head(10)\n",
    "    top_customers.plot(kind='bar', ax=axes[1,1], color='red')\n",
    "    axes[1,1].set_title('Top 10 Customers by Sales Value')\n",
    "    axes[1,1].set_xlabel('Customer ID')\n",
    "    axes[1,1].set_ylabel('Total Sales ($)')\n",
    "    \n",
    "    # Quantity vs Price scatter\n",
    "    axes[1,2].scatter(df['quantity'], df['unit_price'], alpha=0.6)\n",
    "    axes[1,2].set_title('Quantity vs Unit Price')\n",
    "    axes[1,2].set_xlabel('Quantity')\n",
    "    axes[1,2].set_ylabel('Unit Price ($)')\n",
    "    \n",
    "    plt.tight_layout()\n",
    "    plt.show()\n",
    "    \n",
    "    return {\n",
    "        'monthly_sales': monthly_sales,\n",
    "        'day_sales': day_sales,\n",
    "        'top_customers': top_customers,\n",
    "        'sales_stats': df[['quantity', 'total_price', 'unit_price']].describe()\n",
    "    }\n"
   ]
  },
  {
   "cell_type": "markdown",
   "id": "be664b62",
   "metadata": {},
   "source": [
    "### EDA for transactions table"
   ]
  },
  {
   "cell_type": "code",
   "execution_count": 18,
   "id": "60fa1f5e",
   "metadata": {},
   "outputs": [],
   "source": [
    "def perform_eda_transactions(df):\n",
    "    \"\"\"EDA for transactions table\"\"\"\n",
    "    print(\"=\"*60)\n",
    "    print(\"💳 TRANSACTIONS ANALYSIS\")\n",
    "    print(\"=\"*60)\n",
    "    \n",
    "    # Convert transaction_date to datetime\n",
    "    df['transaction_date'] = pd.to_datetime(df['transaction_date'])\n",
    "    \n",
    "    # Payment method analysis\n",
    "    payment_methods = df['payment_method'].value_counts()\n",
    "    print(\"\\n💳 Payment Methods Distribution:\")\n",
    "    print(payment_methods)\n",
    "    \n",
    "    # Transaction amount statistics\n",
    "    print(\"\\n💰 Transaction Amount Statistics:\")\n",
    "    print(df['transaction_amount'].describe())\n",
    "    \n",
    "    # Payment method vs amount\n",
    "    payment_stats = df.groupby('payment_method')['transaction_amount'].agg(['count', 'sum', 'mean']).round(2)\n",
    "    print(\"\\n📊 Payment Method Statistics:\")\n",
    "    print(payment_stats)\n",
    "    \n",
    "    # Visualizations\n",
    "    fig, axes = plt.subplots(2, 2, figsize=(15, 12))\n",
    "    \n",
    "    # Payment method distribution\n",
    "    payment_methods.plot(kind='pie', ax=axes[0,0], autopct='%1.1f%%')\n",
    "    axes[0,0].set_title('Payment Method Distribution')\n",
    "    axes[0,0].set_ylabel('')\n",
    "    \n",
    "    # Transaction amount distribution\n",
    "    axes[0,1].hist(df['transaction_amount'], bins=30, alpha=0.7, color='teal')\n",
    "    axes[0,1].set_title('Transaction Amount Distribution')\n",
    "    axes[0,1].set_xlabel('Transaction Amount ($)')\n",
    "    axes[0,1].set_ylabel('Frequency')\n",
    "    \n",
    "    # Average transaction by payment method\n",
    "    payment_stats['mean'].plot(kind='bar', ax=axes[1,0], color='coral')\n",
    "    axes[1,0].set_title('Average Transaction Amount by Payment Method')\n",
    "    axes[1,0].set_xlabel('Payment Method')\n",
    "    axes[1,0].set_ylabel('Average Amount ($)')\n",
    "    axes[1,0].tick_params(axis='x', rotation=45)\n",
    "    \n",
    "    # Transaction volume by payment method\n",
    "    payment_stats['count'].plot(kind='bar', ax=axes[1,1], color='lightblue')\n",
    "    axes[1,1].set_title('Transaction Volume by Payment Method')\n",
    "    axes[1,1].set_xlabel('Payment Method')\n",
    "    axes[1,1].set_ylabel('Number of Transactions')\n",
    "    axes[1,1].tick_params(axis='x', rotation=45)\n",
    "    \n",
    "    plt.tight_layout()\n",
    "    plt.show()\n",
    "    \n",
    "    return {\n",
    "        'payment_methods': payment_methods,\n",
    "        'payment_stats': payment_stats,\n",
    "        'transaction_stats': df['transaction_amount'].describe()\n",
    "    }"
   ]
  },
  {
   "cell_type": "markdown",
   "id": "9f04b7c2",
   "metadata": {},
   "source": [
    "### EDA for inventory table"
   ]
  },
  {
   "cell_type": "code",
   "execution_count": 19,
   "id": "8fff783d",
   "metadata": {},
   "outputs": [],
   "source": [
    "def perform_eda_inventory(df):\n",
    "    \"\"\"EDA for inventory table\"\"\"\n",
    "    print(\"=\"*60)\n",
    "    print(\"📦 INVENTORY ANALYSIS\")\n",
    "    print(\"=\"*60)\n",
    "    \n",
    "    # Stock statistics\n",
    "    print(\"\\n📊 Stock Quantity Statistics:\")\n",
    "    print(df['stock_quantity'].describe())\n",
    "    \n",
    "    # Low stock analysis (assuming < 20 is low stock)\n",
    "    low_stock_threshold = 20\n",
    "    low_stock_items = df[df['stock_quantity'] < low_stock_threshold]\n",
    "    print(f\"\\n⚠️ Low Stock Items (< {low_stock_threshold}): {len(low_stock_items)}\")\n",
    "    \n",
    "    # Visualizations\n",
    "    fig, axes = plt.subplots(2, 2, figsize=(15, 12))\n",
    "    \n",
    "    # Stock quantity distribution\n",
    "    axes[0,0].hist(df['stock_quantity'], bins=20, alpha=0.7, color='green')\n",
    "    axes[0,0].set_title('Stock Quantity Distribution')\n",
    "    axes[0,0].set_xlabel('Stock Quantity')\n",
    "    axes[0,0].set_ylabel('Frequency')\n",
    "    axes[0,0].axvline(low_stock_threshold, color='red', linestyle='--', label=f'Low Stock Threshold ({low_stock_threshold})')\n",
    "    axes[0,0].legend()\n",
    "    \n",
    "    # Stock levels categorization\n",
    "    df['stock_level'] = pd.cut(df['stock_quantity'], \n",
    "                              bins=[0, 20, 50, 100, float('inf')], \n",
    "                              labels=['Low', 'Medium', 'High', 'Overstocked'])\n",
    "    stock_levels = df['stock_level'].value_counts()\n",
    "    stock_levels.plot(kind='bar', ax=axes[0,1], color=['red', 'yellow', 'green', 'blue'])\n",
    "    axes[0,1].set_title('Stock Level Categories')\n",
    "    axes[0,1].set_xlabel('Stock Level')\n",
    "    axes[0,1].set_ylabel('Number of Products')\n",
    "    axes[0,1].tick_params(axis='x', rotation=45)\n",
    "    \n",
    "    # Top 10 products by stock\n",
    "    top_stock = df.nlargest(10, 'stock_quantity')[['product_id', 'stock_quantity']]\n",
    "    axes[1,0].barh(range(len(top_stock)), top_stock['stock_quantity'])\n",
    "    axes[1,0].set_yticks(range(len(top_stock)))\n",
    "    axes[1,0].set_yticklabels([f'Product {pid}' for pid in top_stock['product_id']])\n",
    "    axes[1,0].set_title('Top 10 Products by Stock Quantity')\n",
    "    axes[1,0].set_xlabel('Stock Quantity')\n",
    "    \n",
    "    # Bottom 10 products by stock\n",
    "    bottom_stock = df.nsmallest(10, 'stock_quantity')[['product_id', 'stock_quantity']]\n",
    "    axes[1,1].barh(range(len(bottom_stock)), bottom_stock['stock_quantity'], color='red')\n",
    "    axes[1,1].set_yticks(range(len(bottom_stock)))\n",
    "    axes[1,1].set_yticklabels([f'Product {pid}' for pid in bottom_stock['product_id']])\n",
    "    axes[1,1].set_title('Bottom 10 Products by Stock Quantity')\n",
    "    axes[1,1].set_xlabel('Stock Quantity')\n",
    "    \n",
    "    plt.tight_layout()\n",
    "    plt.show()\n",
    "    \n",
    "    return {\n",
    "        'stock_stats': df['stock_quantity'].describe(),\n",
    "        'low_stock_items': low_stock_items,\n",
    "        'stock_levels': stock_levels\n",
    "    }\n"
   ]
  },
  {
   "cell_type": "markdown",
   "id": "d9ae1a81",
   "metadata": {},
   "source": [
    "### EDA for expense reports table"
   ]
  },
  {
   "cell_type": "code",
   "execution_count": 20,
   "id": "308ae99b",
   "metadata": {},
   "outputs": [],
   "source": [
    "def perform_eda_expenses(df):\n",
    "    \"\"\"EDA for expense reports table\"\"\"\n",
    "    print(\"=\"*60)\n",
    "    print(\"💸 EXPENSE REPORTS ANALYSIS\")\n",
    "    print(\"=\"*60)\n",
    "    \n",
    "    # Convert expense_date to datetime\n",
    "    df['expense_date'] = pd.to_datetime(df['expense_date'])\n",
    "    \n",
    "    # Expense statistics\n",
    "    print(\"\\n💰 Expense Amount Statistics:\")\n",
    "    print(df['amount'].describe())\n",
    "    \n",
    "    # Category analysis\n",
    "    category_expenses = df.groupby('category').agg({\n",
    "        'amount': ['count', 'sum', 'mean']\n",
    "    }).round(2)\n",
    "    category_expenses.columns = ['Count', 'Total', 'Average']\n",
    "    print(\"\\n📊 Expenses by Category:\")\n",
    "    print(category_expenses)\n",
    "    \n",
    "    # Monthly expenses\n",
    "    df['year_month'] = df['expense_date'].dt.to_period('M')\n",
    "    monthly_expenses = df.groupby('year_month')['amount'].sum()\n",
    "    \n",
    "    # Visualizations\n",
    "    fig, axes = plt.subplots(2, 2, figsize=(15, 12))\n",
    "    \n",
    "    # Expense amount distribution\n",
    "    axes[0,0].hist(df['amount'], bins=30, alpha=0.7, color='orange')\n",
    "    axes[0,0].set_title('Expense Amount Distribution')\n",
    "    axes[0,0].set_xlabel('Amount ($)')\n",
    "    axes[0,0].set_ylabel('Frequency')\n",
    "    \n",
    "    # Expenses by category\n",
    "    category_expenses['Total'].plot(kind='bar', ax=axes[0,1], color='purple')\n",
    "    axes[0,1].set_title('Total Expenses by Category')\n",
    "    axes[0,1].set_xlabel('Category')\n",
    "    axes[0,1].set_ylabel('Total Amount ($)')\n",
    "    axes[0,1].tick_params(axis='x', rotation=45)\n",
    "    \n",
    "    # Monthly expense trend\n",
    "    monthly_expenses.plot(ax=axes[1,0], marker='o', color='red')\n",
    "    axes[1,0].set_title('Monthly Expense Trend')\n",
    "    axes[1,0].set_xlabel('Month')\n",
    "    axes[1,0].set_ylabel('Total Expenses ($)')\n",
    "    axes[1,0].tick_params(axis='x', rotation=45)\n",
    "    \n",
    "    # Average expense by category\n",
    "    category_expenses['Average'].plot(kind='bar', ax=axes[1,1], color='teal')\n",
    "    axes[1,1].set_title('Average Expense by Category')\n",
    "    axes[1,1].set_xlabel('Category')\n",
    "    axes[1,1].set_ylabel('Average Amount ($)')\n",
    "    axes[1,1].tick_params(axis='x', rotation=45)\n",
    "    \n",
    "    plt.tight_layout()\n",
    "    plt.show()\n",
    "    \n",
    "    return {\n",
    "        'expense_stats': df['amount'].describe(),\n",
    "        'category_expenses': category_expenses,\n",
    "        'monthly_expenses': monthly_expenses\n",
    "    }"
   ]
  },
  {
   "cell_type": "markdown",
   "id": "40c2d330",
   "metadata": {},
   "source": [
    "### Perform comprehensive analysis across all tables"
   ]
  },
  {
   "cell_type": "code",
   "execution_count": 21,
   "id": "109dad7a",
   "metadata": {},
   "outputs": [],
   "source": [
    "def perform_comprehensive_analysis(dataframes):\n",
    "    \"\"\"Perform comprehensive analysis across all tables\"\"\"\n",
    "    print(\"=\"*80)\n",
    "    print(\"🔍 COMPREHENSIVE BUSINESS ANALYSIS\")\n",
    "    print(\"=\"*80)\n",
    "    \n",
    "    analysis_results = {}\n",
    "    \n",
    "    # Individual table analysis\n",
    "    if 'products' in dataframes and not dataframes['products'].empty:\n",
    "        analysis_results['products'] = perform_eda_products(dataframes['products'])\n",
    "    \n",
    "    if 'sales_data' in dataframes and not dataframes['sales_data'].empty:\n",
    "        analysis_results['sales'] = perform_eda_sales(dataframes['sales_data'])\n",
    "    \n",
    "    if 'transactions' in dataframes and not dataframes['transactions'].empty:\n",
    "        analysis_results['transactions'] = perform_eda_transactions(dataframes['transactions'])\n",
    "    \n",
    "    if 'inventory' in dataframes and not dataframes['inventory'].empty:\n",
    "        analysis_results['inventory'] = perform_eda_inventory(dataframes['inventory'])\n",
    "    \n",
    "    if 'expense_reports' in dataframes and not dataframes['expense_reports'].empty:\n",
    "        analysis_results['expenses'] = perform_eda_expenses(dataframes['expense_reports'])\n",
    "    \n",
    "    return analysis_results"
   ]
  },
  {
   "cell_type": "markdown",
   "id": "dec0a582",
   "metadata": {},
   "source": [
    "\n",
    "## ADVANCED ANALYTICS AND INSIGHTS"
   ]
  },
  {
   "cell_type": "code",
   "execution_count": 40,
   "id": "d7cec16a",
   "metadata": {},
   "outputs": [
    {
     "name": "stdout",
     "output_type": "stream",
     "text": [
      "================================================================================\n",
      "💡 KEY BUSINESS INSIGHTS\n",
      "================================================================================\n",
      "\n",
      "💰 REVENUE INSIGHTS:\n",
      "Total Revenue: $385,977.11\n",
      "Average Order Value: $1429.54\n",
      "Total Orders: 270\n",
      "\n",
      "📈 MONTHLY REVENUE TREND:\n",
      "year_month\n",
      "2025-01    46496.53\n",
      "2025-02    30566.81\n",
      "2025-03    34524.71\n",
      "2025-04    29253.38\n",
      "2025-05    23385.82\n",
      "2025-06    19165.08\n",
      "Freq: M, Name: total_price, dtype: float64\n",
      "\n",
      "🏆 TOP 10 PRODUCTS BY REVENUE:\n",
      "Product_1: $36,563.28\n",
      "Product_8: $34,487.40\n",
      "Product_14: $26,390.55\n",
      "Product_10: $24,408.56\n",
      "Product_19: $22,622.66\n",
      "Product_5: $22,210.71\n",
      "Product_17: $21,116.58\n",
      "Product_7: $20,796.62\n",
      "Product_6: $20,384.59\n",
      "Product_11: $19,500.69\n",
      "\n",
      "📦 CATEGORY PERFORMANCE:\n",
      "Electronics: $96,332.64\n",
      "Clothing: $91,367.39\n",
      "Groceries: $79,305.97\n",
      "Books: $61,956.41\n",
      "Home & Kitchen: $57,014.70\n",
      "\n",
      "👥 CUSTOMER INSIGHTS:\n",
      "Average Customer Lifetime Value: $2231.08\n",
      "Average Orders per Customer: 1.6\n",
      "\n",
      "🌟 TOP 5 CUSTOMERS BY SPENDING:\n",
      "Customer ID 59.0: $9,391.81 (5.0 orders)\n",
      "Customer ID 196.0: $7,554.42 (3.0 orders)\n",
      "Customer ID 157.0: $7,007.25 (3.0 orders)\n",
      "Customer ID 227.0: $6,844.91 (5.0 orders)\n",
      "Customer ID 40.0: $6,827.16 (2.0 orders)\n",
      "\n",
      "⚠️ LOW STOCK ALERTS:\n",
      "Products with stock < 20: 32\n",
      "Total Inventory Value: $3,680,993.46\n",
      "\n",
      "💸 EXPENSE INSIGHTS:\n",
      "Total Expenses: $715,941.38\n",
      "Average Monthly Expenses: $55,072.41\n",
      "\n",
      "Expense by Category:\n",
      "Logistics: $168,173.20\n",
      "Software: $142,982.37\n",
      "Supplies: $139,233.40\n",
      "Maintenance: $138,915.73\n",
      "Utilities: $126,636.68\n",
      "\n",
      "⭐ CUSTOMER SATISFACTION:\n",
      "Average Rating: 2.91/5\n",
      "Rating Distribution:\n",
      "1 stars: 58 reviews\n",
      "2 stars: 58 reviews\n",
      "3 stars: 54 reviews\n",
      "4 stars: 50 reviews\n",
      "5 stars: 50 reviews\n"
     ]
    }
   ],
   "source": [
    "def generate_business_insights(dataframes):\n",
    "    \"\"\"Generate key business insights\"\"\"\n",
    "    print(\"=\"*80)\n",
    "    print(\"💡 KEY BUSINESS INSIGHTS\")\n",
    "    print(\"=\"*80)\n",
    "    \n",
    "    insights = {}\n",
    "    \n",
    "    # Sales Performance Insights\n",
    "    if 'sales_data' in dataframes:\n",
    "        sales_df = dataframes['sales_data'].copy()\n",
    "        sales_df['sale_date'] = pd.to_datetime(sales_df['sale_date'])\n",
    "        \n",
    "        # Revenue insights\n",
    "        total_revenue = sales_df['total_price'].sum()\n",
    "        avg_order_value = sales_df['total_price'].mean()\n",
    "        total_orders = len(sales_df)\n",
    "        \n",
    "        insights['revenue'] = {\n",
    "            'total_revenue': total_revenue,\n",
    "            'average_order_value': avg_order_value,\n",
    "            'total_orders': total_orders\n",
    "        }\n",
    "        \n",
    "        print(f\"\\n💰 REVENUE INSIGHTS:\")\n",
    "        print(f\"Total Revenue: ${total_revenue:,.2f}\")\n",
    "        print(f\"Average Order Value: ${avg_order_value:.2f}\")\n",
    "        print(f\"Total Orders: {total_orders:,}\")\n",
    "        \n",
    "        # Monthly revenue trend\n",
    "        sales_df['year_month'] = sales_df['sale_date'].dt.to_period('M')\n",
    "        monthly_revenue = sales_df.groupby('year_month')['total_price'].sum()\n",
    "        print(f\"\\n📈 MONTHLY REVENUE TREND:\")\n",
    "        print(monthly_revenue.tail(6))  # Last 6 months\n",
    "    \n",
    "    # Product Performance\n",
    "    if 'products' in dataframes and 'sales_data' in dataframes:\n",
    "        products_df = dataframes['products'].copy()  # Make a copy to avoid modifying original\n",
    "        \n",
    "        # FIXED: Check if category column exists, if not create it\n",
    "        if 'category' not in products_df.columns:\n",
    "            # Create categories based on price ranges\n",
    "            products_df['category'] = pd.cut(products_df['price'], \n",
    "                                           bins=[0, 50, 200, 500, float('inf')],\n",
    "                                           labels=['Budget', 'Mid-range', 'Premium', 'Luxury'])\n",
    "        \n",
    "        # Merge sales with products\n",
    "        product_sales = sales_df.merge(products_df, on='product_id')\n",
    "        \n",
    "        # Top selling products\n",
    "        top_products = product_sales.groupby('product_name')['total_price'].sum().sort_values(ascending=False).head(10)\n",
    "        print(f\"\\n🏆 TOP 10 PRODUCTS BY REVENUE:\")\n",
    "        for product, revenue in top_products.items():\n",
    "            print(f\"{product}: ${revenue:,.2f}\")\n",
    "        \n",
    "        # FIXED: Category performance with error handling\n",
    "        try:\n",
    "            category_performance = product_sales.groupby('category')['total_price'].sum().sort_values(ascending=False)\n",
    "            print(f\"\\n📦 CATEGORY PERFORMANCE:\")\n",
    "            for category, revenue in category_performance.items():\n",
    "                if pd.notna(category):  # Skip NaN categories\n",
    "                    print(f\"{category}: ${revenue:,.2f}\")\n",
    "        except Exception as e:\n",
    "            print(f\"\\nNote: Category analysis skipped - {str(e)}\")\n",
    "    \n",
    "    # Customer Insights\n",
    "    if 'customers' in dataframes and 'sales_data' in dataframes:\n",
    "        customers_df = dataframes['customers']\n",
    "        \n",
    "        # Customer lifetime value\n",
    "        customer_sales = sales_df.groupby('customer_id')['total_price'].agg(['sum', 'count']).reset_index()\n",
    "        customer_sales.columns = ['customer_id', 'total_spent', 'order_count']\n",
    "        \n",
    "        avg_clv = customer_sales['total_spent'].mean()\n",
    "        avg_orders_per_customer = customer_sales['order_count'].mean()\n",
    "        \n",
    "        print(f\"\\n👥 CUSTOMER INSIGHTS:\")\n",
    "        print(f\"Average Customer Lifetime Value: ${avg_clv:.2f}\")\n",
    "        print(f\"Average Orders per Customer: {avg_orders_per_customer:.1f}\")\n",
    "        \n",
    "        # Top customers\n",
    "        top_customers = customer_sales.sort_values('total_spent', ascending=False).head(5)\n",
    "        print(f\"\\n🌟 TOP 5 CUSTOMERS BY SPENDING:\")\n",
    "        for _, customer in top_customers.iterrows():\n",
    "            print(f\"Customer ID {customer['customer_id']}: ${customer['total_spent']:,.2f} ({customer['order_count']} orders)\")\n",
    "    \n",
    "    # Inventory Insights\n",
    "    if 'inventory' in dataframes and 'products' in dataframes:\n",
    "        inventory_df = dataframes['inventory']\n",
    "        \n",
    "        # Low stock alerts\n",
    "        low_stock = inventory_df[inventory_df['stock_quantity'] < 20]\n",
    "        print(f\"\\n⚠️ LOW STOCK ALERTS:\")\n",
    "        print(f\"Products with stock < 20: {len(low_stock)}\")\n",
    "        \n",
    "        # Stock value\n",
    "        inventory_with_products = inventory_df.merge(products_df, on='product_id')\n",
    "        inventory_with_products['stock_value'] = inventory_with_products['stock_quantity'] * inventory_with_products['price']\n",
    "        total_stock_value = inventory_with_products['stock_value'].sum()\n",
    "        \n",
    "        print(f\"Total Inventory Value: ${total_stock_value:,.2f}\")\n",
    "    \n",
    "    # Expense Analysis\n",
    "    if 'expense_reports' in dataframes:\n",
    "        expenses_df = dataframes['expense_reports'].copy()\n",
    "        expenses_df['expense_date'] = pd.to_datetime(expenses_df['expense_date'])  # Ensure datetime format\n",
    "        \n",
    "        total_expenses = expenses_df['amount'].sum()\n",
    "        \n",
    "        try:\n",
    "            avg_monthly_expenses = expenses_df.groupby(expenses_df['expense_date'].dt.to_period('M'))['amount'].sum().mean()\n",
    "        except Exception:\n",
    "            avg_monthly_expenses = total_expenses / 12  # Fallback estimate\n",
    "        \n",
    "        print(f\"\\n💸 EXPENSE INSIGHTS:\")\n",
    "        print(f\"Total Expenses: ${total_expenses:,.2f}\")\n",
    "        print(f\"Average Monthly Expenses: ${avg_monthly_expenses:,.2f}\")\n",
    "        \n",
    "        # Expense by category\n",
    "        if 'category' in expenses_df.columns:\n",
    "            expense_by_category = expenses_df.groupby('category')['amount'].sum().sort_values(ascending=False)\n",
    "            print(f\"\\nExpense by Category:\")\n",
    "            for category, amount in expense_by_category.items():\n",
    "                print(f\"{category}: ${amount:,.2f}\")\n",
    "    \n",
    "    # Customer Feedback Analysis\n",
    "    if 'customer_feedback' in dataframes:\n",
    "        feedback_df = dataframes['customer_feedback']\n",
    "        \n",
    "        avg_rating = feedback_df['rating'].mean()\n",
    "        rating_distribution = feedback_df['rating'].value_counts().sort_index()\n",
    "        \n",
    "        print(f\"\\n⭐ CUSTOMER SATISFACTION:\")\n",
    "        print(f\"Average Rating: {avg_rating:.2f}/5\")\n",
    "        print(f\"Rating Distribution:\")\n",
    "        for rating, count in rating_distribution.items():\n",
    "            print(f\"{rating} stars: {count} reviews\")\n",
    "    \n",
    "    return insights\n",
    "\n",
    "# Run business insights\n",
    "if cleaned_dataframes:\n",
    "    business_insights = generate_business_insights(cleaned_dataframes)"
   ]
  },
  {
   "cell_type": "markdown",
   "id": "b2c70ef1",
   "metadata": {},
   "source": [
    "## VISUALIZATION FUNCTIONS"
   ]
  },
  {
   "cell_type": "code",
   "execution_count": 38,
   "id": "b6e22ea3",
   "metadata": {},
   "outputs": [],
   "source": [
    "def create_product_analysis_charts(sales_df, products_df):\n",
    "    \"\"\"Create product analysis visualizations\"\"\"\n",
    "    \n",
    "    # Merge sales with products\n",
    "    product_sales = sales_df.merge(products_df, on='product_id')\n",
    "    \n",
    "    # Top products by revenue\n",
    "    top_products = product_sales.groupby('product_name')['total_price'].sum().sort_values(ascending=False).head(15)\n",
    "    \n",
    "    # Check if category column exists, if not create a simple categorization or skip category analysis\n",
    "    if 'category' not in products_df.columns:\n",
    "        # Create a simple category based on price ranges or use product name patterns\n",
    "        # Option 1: Create categories based on price ranges\n",
    "        products_df['category'] = pd.cut(products_df['price'], \n",
    "                                       bins=[0, 50, 200, 500, float('inf')],\n",
    "                                       labels=['Budget', 'Mid-range', 'Premium', 'Luxury'])\n",
    "        \n",
    "        # Re-merge with updated products_df\n",
    "        product_sales = sales_df.merge(products_df, on='product_id')\n",
    "    \n",
    "    # Category performance\n",
    "    category_performance = product_sales.groupby('category').agg({\n",
    "        'total_price': 'sum',\n",
    "        'quantity': 'sum'\n",
    "    }).reset_index()\n",
    "    \n",
    "    # FIXED: Proper subplot specification for pie chart\n",
    "    fig = make_subplots(\n",
    "        rows=2, cols=2,\n",
    "        subplot_titles=('Top 15 Products by Revenue', 'Category Performance', \n",
    "                       'Price Distribution by Category', 'Quantity vs Revenue'),\n",
    "        specs=[[{\"secondary_y\": False}, {\"type\": \"domain\"}],  # domain type for pie chart\n",
    "               [{\"secondary_y\": False}, {\"secondary_y\": False}]]\n",
    "    )\n",
    "    \n",
    "    # Top Products\n",
    "    fig.add_trace(\n",
    "        go.Bar(y=top_products.index, x=top_products.values, orientation='h', name='Revenue'),\n",
    "        row=1, col=1\n",
    "    )\n",
    "    \n",
    "    # Category Performance - PIE CHART\n",
    "    fig.add_trace(\n",
    "        go.Pie(labels=category_performance['category'], values=category_performance['total_price'], name='Category'),\n",
    "        row=1, col=2\n",
    "    )\n",
    "    \n",
    "    # Price Distribution by Category\n",
    "    for category in products_df['category'].unique():\n",
    "        if pd.notna(category):  # Skip NaN categories\n",
    "            category_prices = products_df[products_df['category'] == category]['price']\n",
    "            fig.add_trace(\n",
    "                go.Box(y=category_prices, name=str(category)),\n",
    "                row=2, col=1\n",
    "            )\n",
    "    \n",
    "    # Quantity vs Revenue Scatter\n",
    "    fig.add_trace(\n",
    "        go.Scatter(x=product_sales['quantity'], y=product_sales['total_price'], \n",
    "                  mode='markers', name='Sales'),\n",
    "        row=2, col=2\n",
    "    )\n",
    "    \n",
    "    fig.update_layout(height=1000, title_text=\"Product Analysis Dashboard\")\n",
    "    fig.show()"
   ]
  },
  {
   "cell_type": "markdown",
   "id": "dad1f563",
   "metadata": {},
   "source": [
    "## GENERATE VISUALIZATIONS"
   ]
  },
  {
   "cell_type": "code",
   "execution_count": 36,
   "id": "ecddb8aa",
   "metadata": {},
   "outputs": [
    {
     "name": "stdout",
     "output_type": "stream",
     "text": [
      "Note: you may need to restart the kernel to use updated packages.\n"
     ]
    }
   ],
   "source": [
    "pip install nbformat>=4.2.0"
   ]
  },
  {
   "cell_type": "code",
   "execution_count": 39,
   "id": "296c6a5f",
   "metadata": {},
   "outputs": [
    {
     "name": "stdout",
     "output_type": "stream",
     "text": [
      "================================================================================\n",
      "📊 GENERATING VISUALIZATIONS\n",
      "================================================================================\n",
      "Creating Revenue Dashboard...\n"
     ]
    },
    {
     "data": {
      "application/vnd.plotly.v1+json": {
       "config": {
        "plotlyServerURL": "https://plot.ly"
       },
       "data": [
        {
         "mode": "lines+markers",
         "name": "Monthly Revenue",
         "type": "scatter",
         "x": [
          "2024-06",
          "2024-07",
          "2024-08",
          "2024-09",
          "2024-10",
          "2024-11",
          "2024-12",
          "2025-01",
          "2025-02",
          "2025-03",
          "2025-04",
          "2025-05",
          "2025-06"
         ],
         "xaxis": "x",
         "y": {
          "bdata": "AAAAAIC8zkBcj8L1KJjjQFK4HoV7SdZAUrgehYuZ3UBSuB6Fq5PlQOtRuB5VV9ZAzczMzOzl2UBcj8L1ELTmQHE9Ctez2d1AhetRuJbb4EAfhetRWJHcQK5H4Xp01tZA7FG4HkW30kA=",
          "dtype": "f8"
         },
         "yaxis": "y"
        },
        {
         "name": "Order Value",
         "nbinsx": 30,
         "type": "histogram",
         "x": {
          "bdata": "SOF6FK6HdkCamZmZmbWjQOF6FK5HTZxAUrgehWsyqkDhehSuRx2CQNejcD2Kd6dAPQrXo3DNoUDsUbgehSefQDMzMzMzM1JAH4XrUbh2e0C4HoXrUYiIQNejcD0KZ11A4XoUrkcBQ0AzMzMzMzaTQAAAAAAAPKhAmpmZmZm+kUAzMzMzM1WcQM3MzMzM0ppAmpmZmZnHjkBSuB6F68GGQOxRuB6FR4lAmpmZmZnPlUBcj8L1qDWvQHsUrkfhun1A4XoUrkdBRECPwvUoXB96QOxRuB6FO55AMzMzMzM2k0DNzMzMzGavQFK4HoVrDadAXI/C9ShAnUBxPQrXowCEQAAAAAAA9KZAuB6F61GIZUApXI/C9fqUQM3MzMzMMpdAAAAAAAA9kEAfhetRuHSgQOxRuB6FI5FACtejcD2AqUB7FK5H4SqNQFK4HoXrpYpArkfhehTwoEAAAAAAAPSmQHsUrkfhf5lAcT0K1yMqr0A9CtejcFWhQGZmZmZma5pAZmZmZmZ2iECF61G4HhF/QOxRuB6F85pAzczMzEx3sECPwvUoXCd/QI/C9Shcp5hAMzMzMzP9hUAzMzMzM8mAQM3MzMzMQHJAcT0K16MoqkAzMzMzM4eKQK5H4XoUHqBArkfhehTYj0C4HoXrUYiYQPYoXI/CxqJAzczMzMwYrED2KFyPwiOOQBSuR+F6XJdAmpmZmZmGrUA9CtejcAOEQAAAAAAAN5JAzczMzMyUokAK16NwPR6WQBSuR+F6DIFAH4XrUbg+j0DsUbgehUd5QM3MzMzMMaRA9ihcj8IRdUAAAAAAAJSOQEjhehSuh49A9ihcj8KPl0CuR+F6FBiQQI/C9Shc74FAzczMzMylm0A9CtejcI2LQPYoXI/CjplAw/UoXI/akUAUrkfheuRxQFK4HoXrhKNAKVyPwvXIZUAAAAAAAKqhQMP1KFyPBqpAAAAAAACgnUAK16NwPQpbQGZmZmZmsplA9ihcj8I7mEA9CtejcKmiQDMzMzMziYpA16NwPQqPl0AAAAAAAHKEQK5H4XoUgoNA16NwPQqem0DsUbgehQtYQDMzMzMzq59ArkfhehS2aECamZmZGeenQB+F61G4ZqpAAAAAAAAUeEAAAAAAANR6QOxRuB6F22pAj8L1KFzfhkB7FK5H4Z6nQGZmZmZmWaBAcT0K16MAm0BmZmZmZqikQIXrUbgeiZtAexSuR+EaeUApXI/C9fCVQOF6FK5HQURAAAAAAACwfECamZmZmRGSQI/C9ShcwqNAXI/C9ShMk0AAAAAAAGSqQAAAAAAAVIVAZmZmZmZOokBSuB6F6/FoQClcj8L1+pRA4XoUrkepekDD9ShcD+KnQPYoXI/C3W5ApHA9CtcngEBxPQrXo5qfQArXo3A90phAuB6F61GIlUAK16NwPcpxQD0K16NwjYtAPQrXo3DNhEBmZmZmZnZbQEjhehSuh3ZAmpmZmZnRgECPwvUoXFKUQDMzMzMz63hASOF6FK5HREBmZmZmZt6xQM3MzMzMOpJAFK5H4Xo0gEDNzMzMzDxrQGZmZmZm9l9AFK5H4XrUpEAfhetROD2oQDMzMzMzO3tAZmZmZmbOpECPwvUoXIegQAAAAAAAfp9AzczMzMyBm0BmZmZmZvZvQDMzMzMzc3NACtejcD2em0ApXI/C9chlQMP1KFyPBqpApHA9Ctc6kUBmZmZmZrKZQHE9CtejAItAw/UoXI+zrUDNzMzMzLGQQAAAAAAAoZpA7FG4HoUnrEDsUbgehUeZQFyPwvUojIBAAAAAAADqm0A9CtejcGCmQArXo3A9GmZASOF6FK6fmEBmZmZmZtaWQGZmZmZmOqpAexSuR+FycUApXI/C9cB8QBSuR+F6XIdAKVyPwjWIsUDXo3A9CieYQDMzMzMzoZJAXI/C9SgUiEAAAAAAAJaGQOF6FK5HHZNAuB6F61H4VUDNzMzMzIKSQGZmZmZmC6ZA4XoUrkdBfUBI4XoUroePQKRwPQrX5aFAAAAAAAD0pkDNzMzMzFR2QHE9CtejJJlAMzMzMzNLfUAAAAAAAGB4QJqZmZmZdpRAFK5H4Xo+iUDsUbgehdt6QHE9CtejuHBArkfhehQyhECPwvUoXB96QEjhehSu+6BAAAAAAADankBxPQrXo7ObQDMzMzOzga1AexSuR+FyYUCuR+F6lN6gQFyPwvUoNKNAuB6F61H4RUDXo3A9CiOEQM3MzMxM/rJAZmZmZmbmpUApXI/C9calQClcj8L1UIVArkfhehSWnUB7FK5H4QyXQB+F61G4lptAexSuR+F/lkC4HoXrUUOlQJqZmZmZnYlAmpmZmZkhgUBxPQrXo6yWQAAAAACADbFAPQrXo3CBdEApXI/C9XhYQK5H4XoUqqRAUrgehevhmEBcj8L1KBSYQHE9Ctejs5tAMzMzMzNVjEDhehSuR7uJQBSuR+F68H1AZmZmZmbmUEDsUbgehSd8QGZmZmZm5mBA4XoUrkergUCuR+F6FCSAQLgehetR45lA9ihcj8Klh0DXo3A9CluGQHE9CtejHINAFK5H4XrUhED2KFyPwsWLQAAAAACAEaVAw/UoXI/akUD2KFyPwsaiQGZmZmZmCaVAAAAAAABVk0DNzMzMzGRsQM3MzMzMbHZAuB6F61EsekBI4XoUrldwQArXo3A9KoBAPQrXo3D5j0CPwvUoXDmYQKRwPQrXaYVAUrgeheu9e0Bcj8L1KFmiQOxRuB6FA5pAUrgehetdkECkcD0K1+WRQHsUrkfhdohAhetRuB5pkED2KFyPQnaiQGZmZmZm3qFAcT0K16MdpUCuR+F6lH6xQD0K16NwdZVAPQrXo3C7lUApXI/C9RR8QGZmZmZm9I9A",
          "dtype": "f8"
         },
         "xaxis": "x2",
         "yaxis": "y2"
        },
        {
         "name": "Daily Sales",
         "type": "bar",
         "x": [
          "Monday",
          "Tuesday",
          "Wednesday",
          "Thursday",
          "Friday",
          "Saturday",
          "Sunday"
         ],
         "xaxis": "x3",
         "y": {
          "bdata": "9ihcjwre7kBcj8L1aKHoQOF6FK5HJulApHA9Cs+05ED2KFyPqt7tQHE9CtfDFehACtejcBWU8EA=",
          "dtype": "f8"
         },
         "yaxis": "y3"
        },
        {
         "name": "Quarterly Revenue",
         "type": "bar",
         "x": [
          "2024Q2",
          "2024Q3",
          "2024Q4",
          "2025Q1",
          "2025Q2"
         ],
         "xaxis": "x4",
         "y": {
          "bdata": "AAAAAIC8zkDXo3A91sT2QNejcD0m2fZAzczMzEA++0CuR+F6xIfxQA==",
          "dtype": "f8"
         },
         "yaxis": "y4"
        }
       ],
       "layout": {
        "annotations": [
         {
          "font": {
           "size": 16
          },
          "showarrow": false,
          "text": "Monthly Revenue Trend",
          "x": 0.225,
          "xanchor": "center",
          "xref": "paper",
          "y": 1,
          "yanchor": "bottom",
          "yref": "paper"
         },
         {
          "font": {
           "size": 16
          },
          "showarrow": false,
          "text": "Order Value Distribution",
          "x": 0.775,
          "xanchor": "center",
          "xref": "paper",
          "y": 1,
          "yanchor": "bottom",
          "yref": "paper"
         },
         {
          "font": {
           "size": 16
          },
          "showarrow": false,
          "text": "Daily Sales Pattern",
          "x": 0.225,
          "xanchor": "center",
          "xref": "paper",
          "y": 0.375,
          "yanchor": "bottom",
          "yref": "paper"
         },
         {
          "font": {
           "size": 16
          },
          "showarrow": false,
          "text": "Revenue by Quarter",
          "x": 0.775,
          "xanchor": "center",
          "xref": "paper",
          "y": 0.375,
          "yanchor": "bottom",
          "yref": "paper"
         }
        ],
        "height": 800,
        "showlegend": false,
        "template": {
         "data": {
          "bar": [
           {
            "error_x": {
             "color": "#2a3f5f"
            },
            "error_y": {
             "color": "#2a3f5f"
            },
            "marker": {
             "line": {
              "color": "#E5ECF6",
              "width": 0.5
             },
             "pattern": {
              "fillmode": "overlay",
              "size": 10,
              "solidity": 0.2
             }
            },
            "type": "bar"
           }
          ],
          "barpolar": [
           {
            "marker": {
             "line": {
              "color": "#E5ECF6",
              "width": 0.5
             },
             "pattern": {
              "fillmode": "overlay",
              "size": 10,
              "solidity": 0.2
             }
            },
            "type": "barpolar"
           }
          ],
          "carpet": [
           {
            "aaxis": {
             "endlinecolor": "#2a3f5f",
             "gridcolor": "white",
             "linecolor": "white",
             "minorgridcolor": "white",
             "startlinecolor": "#2a3f5f"
            },
            "baxis": {
             "endlinecolor": "#2a3f5f",
             "gridcolor": "white",
             "linecolor": "white",
             "minorgridcolor": "white",
             "startlinecolor": "#2a3f5f"
            },
            "type": "carpet"
           }
          ],
          "choropleth": [
           {
            "colorbar": {
             "outlinewidth": 0,
             "ticks": ""
            },
            "type": "choropleth"
           }
          ],
          "contour": [
           {
            "colorbar": {
             "outlinewidth": 0,
             "ticks": ""
            },
            "colorscale": [
             [
              0,
              "#0d0887"
             ],
             [
              0.1111111111111111,
              "#46039f"
             ],
             [
              0.2222222222222222,
              "#7201a8"
             ],
             [
              0.3333333333333333,
              "#9c179e"
             ],
             [
              0.4444444444444444,
              "#bd3786"
             ],
             [
              0.5555555555555556,
              "#d8576b"
             ],
             [
              0.6666666666666666,
              "#ed7953"
             ],
             [
              0.7777777777777778,
              "#fb9f3a"
             ],
             [
              0.8888888888888888,
              "#fdca26"
             ],
             [
              1,
              "#f0f921"
             ]
            ],
            "type": "contour"
           }
          ],
          "contourcarpet": [
           {
            "colorbar": {
             "outlinewidth": 0,
             "ticks": ""
            },
            "type": "contourcarpet"
           }
          ],
          "heatmap": [
           {
            "colorbar": {
             "outlinewidth": 0,
             "ticks": ""
            },
            "colorscale": [
             [
              0,
              "#0d0887"
             ],
             [
              0.1111111111111111,
              "#46039f"
             ],
             [
              0.2222222222222222,
              "#7201a8"
             ],
             [
              0.3333333333333333,
              "#9c179e"
             ],
             [
              0.4444444444444444,
              "#bd3786"
             ],
             [
              0.5555555555555556,
              "#d8576b"
             ],
             [
              0.6666666666666666,
              "#ed7953"
             ],
             [
              0.7777777777777778,
              "#fb9f3a"
             ],
             [
              0.8888888888888888,
              "#fdca26"
             ],
             [
              1,
              "#f0f921"
             ]
            ],
            "type": "heatmap"
           }
          ],
          "histogram": [
           {
            "marker": {
             "pattern": {
              "fillmode": "overlay",
              "size": 10,
              "solidity": 0.2
             }
            },
            "type": "histogram"
           }
          ],
          "histogram2d": [
           {
            "colorbar": {
             "outlinewidth": 0,
             "ticks": ""
            },
            "colorscale": [
             [
              0,
              "#0d0887"
             ],
             [
              0.1111111111111111,
              "#46039f"
             ],
             [
              0.2222222222222222,
              "#7201a8"
             ],
             [
              0.3333333333333333,
              "#9c179e"
             ],
             [
              0.4444444444444444,
              "#bd3786"
             ],
             [
              0.5555555555555556,
              "#d8576b"
             ],
             [
              0.6666666666666666,
              "#ed7953"
             ],
             [
              0.7777777777777778,
              "#fb9f3a"
             ],
             [
              0.8888888888888888,
              "#fdca26"
             ],
             [
              1,
              "#f0f921"
             ]
            ],
            "type": "histogram2d"
           }
          ],
          "histogram2dcontour": [
           {
            "colorbar": {
             "outlinewidth": 0,
             "ticks": ""
            },
            "colorscale": [
             [
              0,
              "#0d0887"
             ],
             [
              0.1111111111111111,
              "#46039f"
             ],
             [
              0.2222222222222222,
              "#7201a8"
             ],
             [
              0.3333333333333333,
              "#9c179e"
             ],
             [
              0.4444444444444444,
              "#bd3786"
             ],
             [
              0.5555555555555556,
              "#d8576b"
             ],
             [
              0.6666666666666666,
              "#ed7953"
             ],
             [
              0.7777777777777778,
              "#fb9f3a"
             ],
             [
              0.8888888888888888,
              "#fdca26"
             ],
             [
              1,
              "#f0f921"
             ]
            ],
            "type": "histogram2dcontour"
           }
          ],
          "mesh3d": [
           {
            "colorbar": {
             "outlinewidth": 0,
             "ticks": ""
            },
            "type": "mesh3d"
           }
          ],
          "parcoords": [
           {
            "line": {
             "colorbar": {
              "outlinewidth": 0,
              "ticks": ""
             }
            },
            "type": "parcoords"
           }
          ],
          "pie": [
           {
            "automargin": true,
            "type": "pie"
           }
          ],
          "scatter": [
           {
            "fillpattern": {
             "fillmode": "overlay",
             "size": 10,
             "solidity": 0.2
            },
            "type": "scatter"
           }
          ],
          "scatter3d": [
           {
            "line": {
             "colorbar": {
              "outlinewidth": 0,
              "ticks": ""
             }
            },
            "marker": {
             "colorbar": {
              "outlinewidth": 0,
              "ticks": ""
             }
            },
            "type": "scatter3d"
           }
          ],
          "scattercarpet": [
           {
            "marker": {
             "colorbar": {
              "outlinewidth": 0,
              "ticks": ""
             }
            },
            "type": "scattercarpet"
           }
          ],
          "scattergeo": [
           {
            "marker": {
             "colorbar": {
              "outlinewidth": 0,
              "ticks": ""
             }
            },
            "type": "scattergeo"
           }
          ],
          "scattergl": [
           {
            "marker": {
             "colorbar": {
              "outlinewidth": 0,
              "ticks": ""
             }
            },
            "type": "scattergl"
           }
          ],
          "scattermap": [
           {
            "marker": {
             "colorbar": {
              "outlinewidth": 0,
              "ticks": ""
             }
            },
            "type": "scattermap"
           }
          ],
          "scattermapbox": [
           {
            "marker": {
             "colorbar": {
              "outlinewidth": 0,
              "ticks": ""
             }
            },
            "type": "scattermapbox"
           }
          ],
          "scatterpolar": [
           {
            "marker": {
             "colorbar": {
              "outlinewidth": 0,
              "ticks": ""
             }
            },
            "type": "scatterpolar"
           }
          ],
          "scatterpolargl": [
           {
            "marker": {
             "colorbar": {
              "outlinewidth": 0,
              "ticks": ""
             }
            },
            "type": "scatterpolargl"
           }
          ],
          "scatterternary": [
           {
            "marker": {
             "colorbar": {
              "outlinewidth": 0,
              "ticks": ""
             }
            },
            "type": "scatterternary"
           }
          ],
          "surface": [
           {
            "colorbar": {
             "outlinewidth": 0,
             "ticks": ""
            },
            "colorscale": [
             [
              0,
              "#0d0887"
             ],
             [
              0.1111111111111111,
              "#46039f"
             ],
             [
              0.2222222222222222,
              "#7201a8"
             ],
             [
              0.3333333333333333,
              "#9c179e"
             ],
             [
              0.4444444444444444,
              "#bd3786"
             ],
             [
              0.5555555555555556,
              "#d8576b"
             ],
             [
              0.6666666666666666,
              "#ed7953"
             ],
             [
              0.7777777777777778,
              "#fb9f3a"
             ],
             [
              0.8888888888888888,
              "#fdca26"
             ],
             [
              1,
              "#f0f921"
             ]
            ],
            "type": "surface"
           }
          ],
          "table": [
           {
            "cells": {
             "fill": {
              "color": "#EBF0F8"
             },
             "line": {
              "color": "white"
             }
            },
            "header": {
             "fill": {
              "color": "#C8D4E3"
             },
             "line": {
              "color": "white"
             }
            },
            "type": "table"
           }
          ]
         },
         "layout": {
          "annotationdefaults": {
           "arrowcolor": "#2a3f5f",
           "arrowhead": 0,
           "arrowwidth": 1
          },
          "autotypenumbers": "strict",
          "coloraxis": {
           "colorbar": {
            "outlinewidth": 0,
            "ticks": ""
           }
          },
          "colorscale": {
           "diverging": [
            [
             0,
             "#8e0152"
            ],
            [
             0.1,
             "#c51b7d"
            ],
            [
             0.2,
             "#de77ae"
            ],
            [
             0.3,
             "#f1b6da"
            ],
            [
             0.4,
             "#fde0ef"
            ],
            [
             0.5,
             "#f7f7f7"
            ],
            [
             0.6,
             "#e6f5d0"
            ],
            [
             0.7,
             "#b8e186"
            ],
            [
             0.8,
             "#7fbc41"
            ],
            [
             0.9,
             "#4d9221"
            ],
            [
             1,
             "#276419"
            ]
           ],
           "sequential": [
            [
             0,
             "#0d0887"
            ],
            [
             0.1111111111111111,
             "#46039f"
            ],
            [
             0.2222222222222222,
             "#7201a8"
            ],
            [
             0.3333333333333333,
             "#9c179e"
            ],
            [
             0.4444444444444444,
             "#bd3786"
            ],
            [
             0.5555555555555556,
             "#d8576b"
            ],
            [
             0.6666666666666666,
             "#ed7953"
            ],
            [
             0.7777777777777778,
             "#fb9f3a"
            ],
            [
             0.8888888888888888,
             "#fdca26"
            ],
            [
             1,
             "#f0f921"
            ]
           ],
           "sequentialminus": [
            [
             0,
             "#0d0887"
            ],
            [
             0.1111111111111111,
             "#46039f"
            ],
            [
             0.2222222222222222,
             "#7201a8"
            ],
            [
             0.3333333333333333,
             "#9c179e"
            ],
            [
             0.4444444444444444,
             "#bd3786"
            ],
            [
             0.5555555555555556,
             "#d8576b"
            ],
            [
             0.6666666666666666,
             "#ed7953"
            ],
            [
             0.7777777777777778,
             "#fb9f3a"
            ],
            [
             0.8888888888888888,
             "#fdca26"
            ],
            [
             1,
             "#f0f921"
            ]
           ]
          },
          "colorway": [
           "#636efa",
           "#EF553B",
           "#00cc96",
           "#ab63fa",
           "#FFA15A",
           "#19d3f3",
           "#FF6692",
           "#B6E880",
           "#FF97FF",
           "#FECB52"
          ],
          "font": {
           "color": "#2a3f5f"
          },
          "geo": {
           "bgcolor": "white",
           "lakecolor": "white",
           "landcolor": "#E5ECF6",
           "showlakes": true,
           "showland": true,
           "subunitcolor": "white"
          },
          "hoverlabel": {
           "align": "left"
          },
          "hovermode": "closest",
          "mapbox": {
           "style": "light"
          },
          "paper_bgcolor": "white",
          "plot_bgcolor": "#E5ECF6",
          "polar": {
           "angularaxis": {
            "gridcolor": "white",
            "linecolor": "white",
            "ticks": ""
           },
           "bgcolor": "#E5ECF6",
           "radialaxis": {
            "gridcolor": "white",
            "linecolor": "white",
            "ticks": ""
           }
          },
          "scene": {
           "xaxis": {
            "backgroundcolor": "#E5ECF6",
            "gridcolor": "white",
            "gridwidth": 2,
            "linecolor": "white",
            "showbackground": true,
            "ticks": "",
            "zerolinecolor": "white"
           },
           "yaxis": {
            "backgroundcolor": "#E5ECF6",
            "gridcolor": "white",
            "gridwidth": 2,
            "linecolor": "white",
            "showbackground": true,
            "ticks": "",
            "zerolinecolor": "white"
           },
           "zaxis": {
            "backgroundcolor": "#E5ECF6",
            "gridcolor": "white",
            "gridwidth": 2,
            "linecolor": "white",
            "showbackground": true,
            "ticks": "",
            "zerolinecolor": "white"
           }
          },
          "shapedefaults": {
           "line": {
            "color": "#2a3f5f"
           }
          },
          "ternary": {
           "aaxis": {
            "gridcolor": "white",
            "linecolor": "white",
            "ticks": ""
           },
           "baxis": {
            "gridcolor": "white",
            "linecolor": "white",
            "ticks": ""
           },
           "bgcolor": "#E5ECF6",
           "caxis": {
            "gridcolor": "white",
            "linecolor": "white",
            "ticks": ""
           }
          },
          "title": {
           "x": 0.05
          },
          "xaxis": {
           "automargin": true,
           "gridcolor": "white",
           "linecolor": "white",
           "ticks": "",
           "title": {
            "standoff": 15
           },
           "zerolinecolor": "white",
           "zerolinewidth": 2
          },
          "yaxis": {
           "automargin": true,
           "gridcolor": "white",
           "linecolor": "white",
           "ticks": "",
           "title": {
            "standoff": 15
           },
           "zerolinecolor": "white",
           "zerolinewidth": 2
          }
         }
        },
        "title": {
         "text": "Revenue Dashboard"
        },
        "xaxis": {
         "anchor": "y",
         "domain": [
          0,
          0.45
         ]
        },
        "xaxis2": {
         "anchor": "y2",
         "domain": [
          0.55,
          1
         ]
        },
        "xaxis3": {
         "anchor": "y3",
         "domain": [
          0,
          0.45
         ]
        },
        "xaxis4": {
         "anchor": "y4",
         "domain": [
          0.55,
          1
         ]
        },
        "yaxis": {
         "anchor": "x",
         "domain": [
          0.625,
          1
         ]
        },
        "yaxis2": {
         "anchor": "x2",
         "domain": [
          0.625,
          1
         ]
        },
        "yaxis3": {
         "anchor": "x3",
         "domain": [
          0,
          0.375
         ]
        },
        "yaxis4": {
         "anchor": "x4",
         "domain": [
          0,
          0.375
         ]
        }
       }
      }
     },
     "metadata": {},
     "output_type": "display_data"
    },
    {
     "name": "stdout",
     "output_type": "stream",
     "text": [
      "Creating Product Analysis Charts...\n"
     ]
    },
    {
     "data": {
      "application/vnd.plotly.v1+json": {
       "config": {
        "plotlyServerURL": "https://plot.ly"
       },
       "data": [
        {
         "name": "Revenue",
         "orientation": "h",
         "type": "bar",
         "x": {
          "bdata": "XI/C9Wja4UDNzMzM7NbgQDMzMzOjxdlAcT0K1yPW10DXo3A9qhfWQArXo3CtsNVA7FG4HiWf1EDhehSuJ0/UQClcj8Il6NNAj8L1KCwL00A+Ctej0M3RQHE9CteDSNFAPQrXo2Cx0EBxPQrX41DQQB+F61EYY8tA",
          "dtype": "f8"
         },
         "xaxis": "x",
         "y": [
          "Product_1",
          "Product_8",
          "Product_14",
          "Product_10",
          "Product_19",
          "Product_5",
          "Product_17",
          "Product_7",
          "Product_6",
          "Product_11",
          "Product_4",
          "Product_16",
          "Product_2",
          "Product_9",
          "Product_13"
         ],
         "yaxis": "y"
        },
        {
         "domain": {
          "x": [
           0.55,
           1
          ],
          "y": [
           0.625,
           1
          ]
         },
         "labels": [
          "Books",
          "Clothing",
          "Electronics",
          "Groceries",
          "Home & Kitchen"
         ],
         "name": "Category",
         "type": "pie",
         "values": {
          "bdata": "7FG4Ho1A7kDXo3A9dk72QNejcD3KhPdAUrgehZ9c80BmZmZm1tbrQA==",
          "dtype": "f8"
         }
        },
        {
         "name": "Electronics",
         "type": "box",
         "xaxis": "x2",
         "y": {
          "bdata": "w/UoXI9CNkC4HoXrUUhdQIXrUbge3XdAhetRuB75dkCamZmZmTlAQPYoXI/C0XpAuB6F61GIaEDsUbgehUdzQB+F61G4jl5A7FG4HoVHeUDhehSuR8V3QClcj8L1OFVAPQrXo3B1dUBxPQrXo4B1QFK4HoXr1X1AzczMzMxIe0AUrkfhejRQQFyPwvUo/ElA7FG4HoWLXkDsUbgehfN6QNejcD0KX3BAZmZmZmbOdEAzMzMzMz91QJqZmZmZ2UNAexSuR+F6YEBcj8L1KGRsQB+F61G4/nxAzczMzMxcckCamZmZmU11QD0K16Nw7WpAH4XrUbgeLUAzMzMzM/NGQD0K16NwjXtA4XoUrkdhfUAUrkfhelx3QD0K16NwnUtAexSuR+F6J0CPwvUoXG9HQJqZmZmZIWRA7FG4HoUnfECamZmZmelmQClcj8L1eFhAZmZmZmauaECPwvUoXOt6QOF6FK5HoVBAzczMzMxUdkBcj8L1KIxwQDMzMzMzr31AexSuR+GqdkDNzMzMzNxjQM3MzMzMJG1AZmZmZmb2e0B7FK5H4XZ4QD0K16NwNW1ACtejcD16dkAzMzMzM3NTQOF6FK5HqWpAzczMzMzcekDXo3A9Cn99QA==",
          "dtype": "f8"
         },
         "yaxis": "y2"
        },
        {
         "name": "Clothing",
         "type": "box",
         "xaxis": "x2",
         "y": {
          "bdata": "AAAAAABAYECF61G4HkViQArXo3A9Ck5A4XoUrkcdc0DD9ShcjwZ6QGZmZmZmTnJAzczMzMxsVkAK16NwPSpcQArXo3A9HnZAAAAAAABwekBcj8L1KIxcQArXo3A9KlBASOF6FK5jfkAfhetRuGZ6QIXrUbgeiXtAhetRuB7VX0A9CtejcBVsQI/C9ShcTzRAzczMzMwcdUCamZmZmTFrQHE9CtejJHlArkfhehSWbUB7FK5H4SpdQOF6FK5HAUNAXI/C9ShAfUA9CtejcL1fQOF6FK5HQW1AFK5H4Xq0YkDsUbgehVtzQHE9CtejcFtAZmZmZmYacED2KFyPwll8QOxRuB6FS1ZAexSuR+F2ckBSuB6F65V4QBSuR+F6GHtAUrgehevBZkAAAAAAAGBYQAAAAAAAwDxAw/UoXI/6a0CamZmZmbVzQKRwPQrXJ3BAw/UoXI+acUCPwvUoXB9qQHsUrkfhum1AhetRuB5pcEAAAAAAABR4QOF6FK5H+XtArkfhehQ+cUAzMzMzM7N3QFK4HoXr8WtA",
          "dtype": "f8"
         },
         "yaxis": "y2"
        },
        {
         "name": "Groceries",
         "type": "box",
         "xaxis": "x2",
         "y": {
          "bdata": "Urgehestd0A9CtejcAF2QBSuR+F68H1AzczMzMxMeEBI4XoUrvtwQBSuR+F6hFZA16NwPQqXfEAzMzMzM1tgQNejcD0KK39AH4XrUbg6cEBSuB6F6+F4QFyPwvUoLHBA16NwPQonaEDNzMzMzCRxQOxRuB6Fg3tAFK5H4XrUdEA9CtejcHV2QGZmZmZmBl5ACtejcD0KK0DsUbgehSNxQI/C9Shcp3hAFK5H4XoMcUDXo3A9ChdrQI/C9Shc31ZAZmZmZmZ2aEAK16NwPcpFQDMzMzMz+2lAH4XrUbgidUCuR+F6FB5wQM3MzMzMNH1AexSuR+FyYUBmZmZmZu5hQNejcD0KI3RAPQrXo3BVcUAzMzMzM5NrQI/C9Shcg3VAUrgehev5fEDD9Shcjxp7QArXo3A9nntAj8L1KFyXYUDD9Shcj/JaQB+F61G4zl1AAAAAAACoaUDXo3A9Co9nQHE9CtejAGtAmpmZmZl5c0DNzMzMzJRrQD0K16NwzXRAH4XrUbg6dUDsUbgehVN5QLgehetR+DVArkfhehTCfkCkcD0K15NUQOxRuB6FC1hACtejcD1md0AUrkfhelh6QJqZmZmZEWJAFK5H4XrkYUCuR+F6FLZoQGZmZmZmQnZAj8L1KFwnb0A=",
          "dtype": "f8"
         },
         "yaxis": "y2"
        },
        {
         "name": "Home & Kitchen",
         "type": "box",
         "xaxis": "x2",
         "y": {
          "bdata": "zczMzMxMSkCkcD0K1w9zQOxRuB6F21pAUrgehevxakAK16NwPcpRQFK4HoXrvXtA16NwPQpnXUAfhetRuHZ7QJqZmZmZIXFA9ihcj8J9a0AfhetRuLZpQBSuR+F6/HpAexSuR+Ged0BmZmZmZkZzQClcj8L1wHxAexSuR+EaZUBcj8L1KBR4QArXo3A9ulZApHA9CtdXe0DhehSuR8F3QI/C9Shc52xAcT0K16OwXkA9CtejcEVyQD0K16Nw/UxAZmZmZmY6ekCF61G4HuV0QI/C9Shc70NAXI/C9Sh0bkApXI/C9chVQAAAAAAAoEhAzczMzMxUYEC4HoXrUXg9QI/C9Shc73FApHA9Ctczf0ApXI/C9agrQGZmZmZmlmNAPQrXo3BNXEBI4XoUrrN7QHsUrkfhumlAuB6F61GIZUCuR+F6FN5rQHsUrkfhqlBAKVyPwvXIWUApXI/C9ah1QFyPwvUoNHNA7FG4HoU7bkBI4XoUrsdlQFK4HoXrpXpA4XoUrkdRWkBcj8L1KLRtQOxRuB6Fg2BAuB6F61HcckAzMzMzM2NrQAAAAAAAkGxAZmZmZmbubkCF61G4Hpl9QBSuR+F6jGhA16NwPQofeUA=",
          "dtype": "f8"
         },
         "yaxis": "y2"
        },
        {
         "name": "Books",
         "type": "box",
         "xaxis": "x2",
         "y": {
          "bdata": "UrgeheuROUCkcD0K16tyQFK4HoXrsUxArkfhehROSECkcD0K1xd0QHE9CtejyGFArkfhehSmYUDsUbgehXtpQHE9CtejAFRApHA9CtfjckBI4XoUrp9oQLgehetR1HBAAAAAAADgVUCamZmZmZ15QHE9CtejKH5AUrgehesZf0AzMzMzM9NZQBSuR+F6FHtApHA9Cte7bkAzMzMzM0N8QGZmZmZmfmFAcT0K16O4YkBmZmZmZnZVQLgehetRiFJAcT0K16MoekCuR+F6FAZ6QIXrUbgehXFAPQrXo3DNcUB7FK5H4XJ+QJqZmZmZMXlAw/UoXI+qZkDD9ShcjzplQArXo3A9XnVAKVyPwvVQdUBI4XoUrodvQPYoXI/CEXVAMzMzMzNjc0ApXI/C9dBsQOF6FK5HQURAexSuR+EaaUBI4XoUrhtxQA==",
          "dtype": "f8"
         },
         "yaxis": "y2"
        },
        {
         "mode": "markers",
         "name": "Sales",
         "type": "scatter",
         "x": {
          "bdata": "BggHBwMHCAcFAQQBAQMKBQoFBQQCCgkCAQIIAwoHBAgKAQMGBQkECQgCBwoJCQgFBAkECgIEBQUJCAoIAwgHCgMECgcFCgQCAwEKAQUEBwMCBQIHCQIGAgUIBQgGBgYFCAUHCQEGAQkIAQUCCAgFCAkEAgYBCggGBgoHCAMDAgkDAgYGCAQCAgUGBgMKAwoKCAUFCAcFCAcFBQoEBAIIAwYECQMFCAQCBQYGCAoIAgECCQgKAgUEBAYHAgQGCgkECgMDAwQDAwIICgkJAQcIAgIKCgkCCAYHBwYCAgYKBwEGBAQJBQkBBQEKAwkHAwYDAgcHCQcKBQcEAwYIAwkHAQYHBwMCBAkFBgkEAwMD",
          "dtype": "i1"
         },
         "xaxis": "x3",
         "y": {
          "bdata": "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",
          "dtype": "f8"
         },
         "yaxis": "y3"
        }
       ],
       "layout": {
        "annotations": [
         {
          "font": {
           "size": 16
          },
          "showarrow": false,
          "text": "Top 15 Products by Revenue",
          "x": 0.225,
          "xanchor": "center",
          "xref": "paper",
          "y": 1,
          "yanchor": "bottom",
          "yref": "paper"
         },
         {
          "font": {
           "size": 16
          },
          "showarrow": false,
          "text": "Category Performance",
          "x": 0.775,
          "xanchor": "center",
          "xref": "paper",
          "y": 1,
          "yanchor": "bottom",
          "yref": "paper"
         },
         {
          "font": {
           "size": 16
          },
          "showarrow": false,
          "text": "Price Distribution by Category",
          "x": 0.225,
          "xanchor": "center",
          "xref": "paper",
          "y": 0.375,
          "yanchor": "bottom",
          "yref": "paper"
         },
         {
          "font": {
           "size": 16
          },
          "showarrow": false,
          "text": "Quantity vs Revenue",
          "x": 0.775,
          "xanchor": "center",
          "xref": "paper",
          "y": 0.375,
          "yanchor": "bottom",
          "yref": "paper"
         }
        ],
        "height": 1000,
        "template": {
         "data": {
          "bar": [
           {
            "error_x": {
             "color": "#2a3f5f"
            },
            "error_y": {
             "color": "#2a3f5f"
            },
            "marker": {
             "line": {
              "color": "#E5ECF6",
              "width": 0.5
             },
             "pattern": {
              "fillmode": "overlay",
              "size": 10,
              "solidity": 0.2
             }
            },
            "type": "bar"
           }
          ],
          "barpolar": [
           {
            "marker": {
             "line": {
              "color": "#E5ECF6",
              "width": 0.5
             },
             "pattern": {
              "fillmode": "overlay",
              "size": 10,
              "solidity": 0.2
             }
            },
            "type": "barpolar"
           }
          ],
          "carpet": [
           {
            "aaxis": {
             "endlinecolor": "#2a3f5f",
             "gridcolor": "white",
             "linecolor": "white",
             "minorgridcolor": "white",
             "startlinecolor": "#2a3f5f"
            },
            "baxis": {
             "endlinecolor": "#2a3f5f",
             "gridcolor": "white",
             "linecolor": "white",
             "minorgridcolor": "white",
             "startlinecolor": "#2a3f5f"
            },
            "type": "carpet"
           }
          ],
          "choropleth": [
           {
            "colorbar": {
             "outlinewidth": 0,
             "ticks": ""
            },
            "type": "choropleth"
           }
          ],
          "contour": [
           {
            "colorbar": {
             "outlinewidth": 0,
             "ticks": ""
            },
            "colorscale": [
             [
              0,
              "#0d0887"
             ],
             [
              0.1111111111111111,
              "#46039f"
             ],
             [
              0.2222222222222222,
              "#7201a8"
             ],
             [
              0.3333333333333333,
              "#9c179e"
             ],
             [
              0.4444444444444444,
              "#bd3786"
             ],
             [
              0.5555555555555556,
              "#d8576b"
             ],
             [
              0.6666666666666666,
              "#ed7953"
             ],
             [
              0.7777777777777778,
              "#fb9f3a"
             ],
             [
              0.8888888888888888,
              "#fdca26"
             ],
             [
              1,
              "#f0f921"
             ]
            ],
            "type": "contour"
           }
          ],
          "contourcarpet": [
           {
            "colorbar": {
             "outlinewidth": 0,
             "ticks": ""
            },
            "type": "contourcarpet"
           }
          ],
          "heatmap": [
           {
            "colorbar": {
             "outlinewidth": 0,
             "ticks": ""
            },
            "colorscale": [
             [
              0,
              "#0d0887"
             ],
             [
              0.1111111111111111,
              "#46039f"
             ],
             [
              0.2222222222222222,
              "#7201a8"
             ],
             [
              0.3333333333333333,
              "#9c179e"
             ],
             [
              0.4444444444444444,
              "#bd3786"
             ],
             [
              0.5555555555555556,
              "#d8576b"
             ],
             [
              0.6666666666666666,
              "#ed7953"
             ],
             [
              0.7777777777777778,
              "#fb9f3a"
             ],
             [
              0.8888888888888888,
              "#fdca26"
             ],
             [
              1,
              "#f0f921"
             ]
            ],
            "type": "heatmap"
           }
          ],
          "histogram": [
           {
            "marker": {
             "pattern": {
              "fillmode": "overlay",
              "size": 10,
              "solidity": 0.2
             }
            },
            "type": "histogram"
           }
          ],
          "histogram2d": [
           {
            "colorbar": {
             "outlinewidth": 0,
             "ticks": ""
            },
            "colorscale": [
             [
              0,
              "#0d0887"
             ],
             [
              0.1111111111111111,
              "#46039f"
             ],
             [
              0.2222222222222222,
              "#7201a8"
             ],
             [
              0.3333333333333333,
              "#9c179e"
             ],
             [
              0.4444444444444444,
              "#bd3786"
             ],
             [
              0.5555555555555556,
              "#d8576b"
             ],
             [
              0.6666666666666666,
              "#ed7953"
             ],
             [
              0.7777777777777778,
              "#fb9f3a"
             ],
             [
              0.8888888888888888,
              "#fdca26"
             ],
             [
              1,
              "#f0f921"
             ]
            ],
            "type": "histogram2d"
           }
          ],
          "histogram2dcontour": [
           {
            "colorbar": {
             "outlinewidth": 0,
             "ticks": ""
            },
            "colorscale": [
             [
              0,
              "#0d0887"
             ],
             [
              0.1111111111111111,
              "#46039f"
             ],
             [
              0.2222222222222222,
              "#7201a8"
             ],
             [
              0.3333333333333333,
              "#9c179e"
             ],
             [
              0.4444444444444444,
              "#bd3786"
             ],
             [
              0.5555555555555556,
              "#d8576b"
             ],
             [
              0.6666666666666666,
              "#ed7953"
             ],
             [
              0.7777777777777778,
              "#fb9f3a"
             ],
             [
              0.8888888888888888,
              "#fdca26"
             ],
             [
              1,
              "#f0f921"
             ]
            ],
            "type": "histogram2dcontour"
           }
          ],
          "mesh3d": [
           {
            "colorbar": {
             "outlinewidth": 0,
             "ticks": ""
            },
            "type": "mesh3d"
           }
          ],
          "parcoords": [
           {
            "line": {
             "colorbar": {
              "outlinewidth": 0,
              "ticks": ""
             }
            },
            "type": "parcoords"
           }
          ],
          "pie": [
           {
            "automargin": true,
            "type": "pie"
           }
          ],
          "scatter": [
           {
            "fillpattern": {
             "fillmode": "overlay",
             "size": 10,
             "solidity": 0.2
            },
            "type": "scatter"
           }
          ],
          "scatter3d": [
           {
            "line": {
             "colorbar": {
              "outlinewidth": 0,
              "ticks": ""
             }
            },
            "marker": {
             "colorbar": {
              "outlinewidth": 0,
              "ticks": ""
             }
            },
            "type": "scatter3d"
           }
          ],
          "scattercarpet": [
           {
            "marker": {
             "colorbar": {
              "outlinewidth": 0,
              "ticks": ""
             }
            },
            "type": "scattercarpet"
           }
          ],
          "scattergeo": [
           {
            "marker": {
             "colorbar": {
              "outlinewidth": 0,
              "ticks": ""
             }
            },
            "type": "scattergeo"
           }
          ],
          "scattergl": [
           {
            "marker": {
             "colorbar": {
              "outlinewidth": 0,
              "ticks": ""
             }
            },
            "type": "scattergl"
           }
          ],
          "scattermap": [
           {
            "marker": {
             "colorbar": {
              "outlinewidth": 0,
              "ticks": ""
             }
            },
            "type": "scattermap"
           }
          ],
          "scattermapbox": [
           {
            "marker": {
             "colorbar": {
              "outlinewidth": 0,
              "ticks": ""
             }
            },
            "type": "scattermapbox"
           }
          ],
          "scatterpolar": [
           {
            "marker": {
             "colorbar": {
              "outlinewidth": 0,
              "ticks": ""
             }
            },
            "type": "scatterpolar"
           }
          ],
          "scatterpolargl": [
           {
            "marker": {
             "colorbar": {
              "outlinewidth": 0,
              "ticks": ""
             }
            },
            "type": "scatterpolargl"
           }
          ],
          "scatterternary": [
           {
            "marker": {
             "colorbar": {
              "outlinewidth": 0,
              "ticks": ""
             }
            },
            "type": "scatterternary"
           }
          ],
          "surface": [
           {
            "colorbar": {
             "outlinewidth": 0,
             "ticks": ""
            },
            "colorscale": [
             [
              0,
              "#0d0887"
             ],
             [
              0.1111111111111111,
              "#46039f"
             ],
             [
              0.2222222222222222,
              "#7201a8"
             ],
             [
              0.3333333333333333,
              "#9c179e"
             ],
             [
              0.4444444444444444,
              "#bd3786"
             ],
             [
              0.5555555555555556,
              "#d8576b"
             ],
             [
              0.6666666666666666,
              "#ed7953"
             ],
             [
              0.7777777777777778,
              "#fb9f3a"
             ],
             [
              0.8888888888888888,
              "#fdca26"
             ],
             [
              1,
              "#f0f921"
             ]
            ],
            "type": "surface"
           }
          ],
          "table": [
           {
            "cells": {
             "fill": {
              "color": "#EBF0F8"
             },
             "line": {
              "color": "white"
             }
            },
            "header": {
             "fill": {
              "color": "#C8D4E3"
             },
             "line": {
              "color": "white"
             }
            },
            "type": "table"
           }
          ]
         },
         "layout": {
          "annotationdefaults": {
           "arrowcolor": "#2a3f5f",
           "arrowhead": 0,
           "arrowwidth": 1
          },
          "autotypenumbers": "strict",
          "coloraxis": {
           "colorbar": {
            "outlinewidth": 0,
            "ticks": ""
           }
          },
          "colorscale": {
           "diverging": [
            [
             0,
             "#8e0152"
            ],
            [
             0.1,
             "#c51b7d"
            ],
            [
             0.2,
             "#de77ae"
            ],
            [
             0.3,
             "#f1b6da"
            ],
            [
             0.4,
             "#fde0ef"
            ],
            [
             0.5,
             "#f7f7f7"
            ],
            [
             0.6,
             "#e6f5d0"
            ],
            [
             0.7,
             "#b8e186"
            ],
            [
             0.8,
             "#7fbc41"
            ],
            [
             0.9,
             "#4d9221"
            ],
            [
             1,
             "#276419"
            ]
           ],
           "sequential": [
            [
             0,
             "#0d0887"
            ],
            [
             0.1111111111111111,
             "#46039f"
            ],
            [
             0.2222222222222222,
             "#7201a8"
            ],
            [
             0.3333333333333333,
             "#9c179e"
            ],
            [
             0.4444444444444444,
             "#bd3786"
            ],
            [
             0.5555555555555556,
             "#d8576b"
            ],
            [
             0.6666666666666666,
             "#ed7953"
            ],
            [
             0.7777777777777778,
             "#fb9f3a"
            ],
            [
             0.8888888888888888,
             "#fdca26"
            ],
            [
             1,
             "#f0f921"
            ]
           ],
           "sequentialminus": [
            [
             0,
             "#0d0887"
            ],
            [
             0.1111111111111111,
             "#46039f"
            ],
            [
             0.2222222222222222,
             "#7201a8"
            ],
            [
             0.3333333333333333,
             "#9c179e"
            ],
            [
             0.4444444444444444,
             "#bd3786"
            ],
            [
             0.5555555555555556,
             "#d8576b"
            ],
            [
             0.6666666666666666,
             "#ed7953"
            ],
            [
             0.7777777777777778,
             "#fb9f3a"
            ],
            [
             0.8888888888888888,
             "#fdca26"
            ],
            [
             1,
             "#f0f921"
            ]
           ]
          },
          "colorway": [
           "#636efa",
           "#EF553B",
           "#00cc96",
           "#ab63fa",
           "#FFA15A",
           "#19d3f3",
           "#FF6692",
           "#B6E880",
           "#FF97FF",
           "#FECB52"
          ],
          "font": {
           "color": "#2a3f5f"
          },
          "geo": {
           "bgcolor": "white",
           "lakecolor": "white",
           "landcolor": "#E5ECF6",
           "showlakes": true,
           "showland": true,
           "subunitcolor": "white"
          },
          "hoverlabel": {
           "align": "left"
          },
          "hovermode": "closest",
          "mapbox": {
           "style": "light"
          },
          "paper_bgcolor": "white",
          "plot_bgcolor": "#E5ECF6",
          "polar": {
           "angularaxis": {
            "gridcolor": "white",
            "linecolor": "white",
            "ticks": ""
           },
           "bgcolor": "#E5ECF6",
           "radialaxis": {
            "gridcolor": "white",
            "linecolor": "white",
            "ticks": ""
           }
          },
          "scene": {
           "xaxis": {
            "backgroundcolor": "#E5ECF6",
            "gridcolor": "white",
            "gridwidth": 2,
            "linecolor": "white",
            "showbackground": true,
            "ticks": "",
            "zerolinecolor": "white"
           },
           "yaxis": {
            "backgroundcolor": "#E5ECF6",
            "gridcolor": "white",
            "gridwidth": 2,
            "linecolor": "white",
            "showbackground": true,
            "ticks": "",
            "zerolinecolor": "white"
           },
           "zaxis": {
            "backgroundcolor": "#E5ECF6",
            "gridcolor": "white",
            "gridwidth": 2,
            "linecolor": "white",
            "showbackground": true,
            "ticks": "",
            "zerolinecolor": "white"
           }
          },
          "shapedefaults": {
           "line": {
            "color": "#2a3f5f"
           }
          },
          "ternary": {
           "aaxis": {
            "gridcolor": "white",
            "linecolor": "white",
            "ticks": ""
           },
           "baxis": {
            "gridcolor": "white",
            "linecolor": "white",
            "ticks": ""
           },
           "bgcolor": "#E5ECF6",
           "caxis": {
            "gridcolor": "white",
            "linecolor": "white",
            "ticks": ""
           }
          },
          "title": {
           "x": 0.05
          },
          "xaxis": {
           "automargin": true,
           "gridcolor": "white",
           "linecolor": "white",
           "ticks": "",
           "title": {
            "standoff": 15
           },
           "zerolinecolor": "white",
           "zerolinewidth": 2
          },
          "yaxis": {
           "automargin": true,
           "gridcolor": "white",
           "linecolor": "white",
           "ticks": "",
           "title": {
            "standoff": 15
           },
           "zerolinecolor": "white",
           "zerolinewidth": 2
          }
         }
        },
        "title": {
         "text": "Product Analysis Dashboard"
        },
        "xaxis": {
         "anchor": "y",
         "domain": [
          0,
          0.45
         ]
        },
        "xaxis2": {
         "anchor": "y2",
         "domain": [
          0,
          0.45
         ]
        },
        "xaxis3": {
         "anchor": "y3",
         "domain": [
          0.55,
          1
         ]
        },
        "yaxis": {
         "anchor": "x",
         "domain": [
          0.625,
          1
         ]
        },
        "yaxis2": {
         "anchor": "x2",
         "domain": [
          0,
          0.375
         ]
        },
        "yaxis3": {
         "anchor": "x3",
         "domain": [
          0,
          0.375
         ]
        }
       }
      }
     },
     "metadata": {},
     "output_type": "display_data"
    },
    {
     "name": "stdout",
     "output_type": "stream",
     "text": [
      "Creating Customer Insights Charts...\n",
      "Error generating visualizations: Trace type 'pie' is not compatible with subplot type 'xy'\n",
      "at grid position (1, 1)\n",
      "\n",
      "See the docstring for the specs argument to plotly.subplots.make_subplots\n",
      "for more information on subplot types\n"
     ]
    },
    {
     "name": "stderr",
     "output_type": "stream",
     "text": [
      "Traceback (most recent call last):\n",
      "  File \"C:\\Users\\shrut\\AppData\\Local\\Temp\\ipykernel_25436\\1793648353.py\", line 25, in generate_all_visualizations\n",
      "    create_customer_insights_charts(sales_df, dataframes['customers'])\n",
      "  File \"C:\\Users\\shrut\\AppData\\Local\\Temp\\ipykernel_25436\\2805648807.py\", line 132, in create_customer_insights_charts\n",
      "    fig.add_trace(\n",
      "  File \"c:\\Users\\shrut\\.conda\\envs\\nltk_env\\lib\\site-packages\\plotly\\graph_objs\\_figure.py\", line 344, in add_trace\n",
      "    return super().add_trace(trace, row, col, secondary_y, exclude_empty_subplots)\n",
      "  File \"c:\\Users\\shrut\\.conda\\envs\\nltk_env\\lib\\site-packages\\plotly\\basedatatypes.py\", line 2129, in add_trace\n",
      "    return self.add_traces(\n",
      "  File \"c:\\Users\\shrut\\.conda\\envs\\nltk_env\\lib\\site-packages\\plotly\\graph_objs\\_figure.py\", line 422, in add_traces\n",
      "    return super().add_traces(\n",
      "  File \"c:\\Users\\shrut\\.conda\\envs\\nltk_env\\lib\\site-packages\\plotly\\basedatatypes.py\", line 2259, in add_traces\n",
      "    self._set_trace_grid_position(trace, row, col, secondary_y)\n",
      "  File \"c:\\Users\\shrut\\.conda\\envs\\nltk_env\\lib\\site-packages\\plotly\\basedatatypes.py\", line 2351, in _set_trace_grid_position\n",
      "    return _set_trace_grid_reference(\n",
      "  File \"c:\\Users\\shrut\\.conda\\envs\\nltk_env\\lib\\site-packages\\plotly\\_subplots.py\", line 1415, in _set_trace_grid_reference\n",
      "    raise ValueError(\n",
      "ValueError: Trace type 'pie' is not compatible with subplot type 'xy'\n",
      "at grid position (1, 1)\n",
      "\n",
      "See the docstring for the specs argument to plotly.subplots.make_subplots\n",
      "for more information on subplot types\n"
     ]
    }
   ],
   "source": [
    "def generate_all_visualizations(dataframes):\n",
    "    \"\"\"Generate all visualization dashboards\"\"\"\n",
    "    print(\"=\"*80)\n",
    "    print(\"📊 GENERATING VISUALIZATIONS\")\n",
    "    print(\"=\"*80)\n",
    "    \n",
    "    # Initialize sales_df as None\n",
    "    sales_df = None\n",
    "    \n",
    "    try:\n",
    "        if 'sales_data' in dataframes:\n",
    "            sales_df = dataframes['sales_data'].copy()\n",
    "            sales_df['sale_date'] = pd.to_datetime(sales_df['sale_date'])\n",
    "            \n",
    "            print(\"Creating Revenue Dashboard...\")\n",
    "            create_revenue_dashboard(sales_df)\n",
    "            \n",
    "        # Check if sales_df exists before using it in other functions\n",
    "        if sales_df is not None and 'products' in dataframes:\n",
    "            print(\"Creating Product Analysis Charts...\")\n",
    "            create_product_analysis_charts(sales_df, dataframes['products'])\n",
    "            \n",
    "        if sales_df is not None and 'customers' in dataframes:\n",
    "            print(\"Creating Customer Insights Charts...\")\n",
    "            create_customer_insights_charts(sales_df, dataframes['customers'])\n",
    "    \n",
    "    except Exception as e:\n",
    "        print(f\"Error generating visualizations: {e}\")\n",
    "        import traceback\n",
    "        traceback.print_exc()\n",
    "\n",
    "# Run visualizations\n",
    "if cleaned_dataframes:\n",
    "    generate_all_visualizations(cleaned_dataframes)"
   ]
  },
  {
   "cell_type": "markdown",
   "id": "dfca969e",
   "metadata": {},
   "source": [
    "## EXPORT RESULTS"
   ]
  },
  {
   "cell_type": "code",
   "execution_count": 26,
   "id": "ce12eca7",
   "metadata": {},
   "outputs": [
    {
     "name": "stdout",
     "output_type": "stream",
     "text": [
      "================================================================================\n",
      "💾 EXPORTING ANALYSIS RESULTS\n",
      "================================================================================\n",
      "✓ Exported products to E:\\BizIntel360 A Data-Driven Financial Performance Dashboard\\analysis_dataset\\bizintel360_analysis_products_cleaned.csv\n",
      "✓ Exported vendors to E:\\BizIntel360 A Data-Driven Financial Performance Dashboard\\analysis_dataset\\bizintel360_analysis_vendors_cleaned.csv\n",
      "✓ Exported customers to E:\\BizIntel360 A Data-Driven Financial Performance Dashboard\\analysis_dataset\\bizintel360_analysis_customers_cleaned.csv\n",
      "✓ Exported sales_data to E:\\BizIntel360 A Data-Driven Financial Performance Dashboard\\analysis_dataset\\bizintel360_analysis_sales_data_cleaned.csv\n",
      "✓ Exported transactions to E:\\BizIntel360 A Data-Driven Financial Performance Dashboard\\analysis_dataset\\bizintel360_analysis_transactions_cleaned.csv\n",
      "✓ Exported inventory to E:\\BizIntel360 A Data-Driven Financial Performance Dashboard\\analysis_dataset\\bizintel360_analysis_inventory_cleaned.csv\n",
      "✓ Exported expense_reports to E:\\BizIntel360 A Data-Driven Financial Performance Dashboard\\analysis_dataset\\bizintel360_analysis_expense_reports_cleaned.csv\n",
      "✓ Exported customer_feedback to E:\\BizIntel360 A Data-Driven Financial Performance Dashboard\\analysis_dataset\\bizintel360_analysis_customer_feedback_cleaned.csv\n",
      "✓ Exported marketing_campaigns to E:\\BizIntel360 A Data-Driven Financial Performance Dashboard\\analysis_dataset\\bizintel360_analysis_marketing_campaigns_cleaned.csv\n",
      "✓ Exported insights to E:\\BizIntel360 A Data-Driven Financial Performance Dashboard\\analysis_dataset\\bizintel360_analysis_insights.txt\n",
      "\n",
      "================================================================================\n",
      "🎉 DATA ANALYSIS COMPLETE!\n",
      "================================================================================\n"
     ]
    }
   ],
   "source": [
    "import os\n",
    "\n",
    "def export_analysis_results(dataframes, insights, filename_prefix=\"bizintel360_analysis\"):\n",
    "    \"\"\"Export analysis results to files\"\"\"\n",
    "    print(\"=\"*80)\n",
    "    print(\"💾 EXPORTING ANALYSIS RESULTS\")\n",
    "    print(\"=\"*80)\n",
    "\n",
    "    export_folder = r\"E:\\BizIntel360 A Data-Driven Financial Performance Dashboard\\analysis_dataset\"\n",
    "    os.makedirs(export_folder, exist_ok=True)  # Ensure folder exists\n",
    "\n",
    "    try:\n",
    "        # Export cleaned data to CSV\n",
    "        for table_name, df in dataframes.items():\n",
    "            filename = os.path.join(export_folder, f\"{filename_prefix}_{table_name}_cleaned.csv\")\n",
    "            df.to_csv(filename, index=False)\n",
    "            print(f\"✓ Exported {table_name} to {filename}\")\n",
    "        \n",
    "        # Export insights to text file\n",
    "        insights_filename = os.path.join(export_folder, f\"{filename_prefix}_insights.txt\")\n",
    "        with open(insights_filename, 'w') as f:\n",
    "            f.write(\"BIZINTEL360 BUSINESS INSIGHTS REPORT\\n\")\n",
    "            f.write(\"=\"*50 + \"\\n\\n\")\n",
    "            \n",
    "            if 'revenue' in insights:\n",
    "                f.write(\"REVENUE INSIGHTS:\\n\")\n",
    "                f.write(f\"Total Revenue: ${insights['revenue']['total_revenue']:,.2f}\\n\")\n",
    "                f.write(f\"Average Order Value: ${insights['revenue']['average_order_value']:.2f}\\n\")\n",
    "                f.write(f\"Total Orders: {insights['revenue']['total_orders']:,}\\n\\n\")\n",
    "        \n",
    "        print(f\"✓ Exported insights to {insights_filename}\")\n",
    "        \n",
    "    except Exception as e:\n",
    "        print(f\"❌ Error exporting results: {e}\")\n",
    "\n",
    "# Export results\n",
    "if cleaned_dataframes and 'business_insights' in locals():\n",
    "    export_analysis_results(cleaned_dataframes, business_insights)\n",
    "\n",
    "print(\"\\n\" + \"=\"*80)\n",
    "print(\"🎉 DATA ANALYSIS COMPLETE!\")\n",
    "print(\"=\"*80)\n"
   ]
  }
 ],
 "metadata": {
  "kernelspec": {
   "display_name": "nltk_env",
   "language": "python",
   "name": "python3"
  },
  "language_info": {
   "codemirror_mode": {
    "name": "ipython",
    "version": 3
   },
   "file_extension": ".py",
   "mimetype": "text/x-python",
   "name": "python",
   "nbconvert_exporter": "python",
   "pygments_lexer": "ipython3",
   "version": "3.9.21"
  }
 },
 "nbformat": 4,
 "nbformat_minor": 5
}
